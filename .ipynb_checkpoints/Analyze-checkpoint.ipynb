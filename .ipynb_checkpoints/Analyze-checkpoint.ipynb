{
 "cells": [
  {
   "cell_type": "code",
   "execution_count": 1,
   "metadata": {},
   "outputs": [],
   "source": [
    "import pandas as pd\n",
    "import numpy as np\n",
    "import util.performance as analysis\n",
    "import matplotlib.pyplot as plt"
   ]
  },
  {
   "cell_type": "code",
   "execution_count": 4,
   "metadata": {},
   "outputs": [],
   "source": [
    "df = pd.read_csv('journal/strat_fitx.csv')"
   ]
  },
  {
   "cell_type": "code",
   "execution_count": 7,
   "metadata": {},
   "outputs": [
    {
     "data": {
      "text/plain": [
       "0"
      ]
     },
     "execution_count": 7,
     "metadata": {},
     "output_type": "execute_result"
    }
   ],
   "source": [
    "df.loc[[23,4,5]].get('M', 0)"
   ]
  },
  {
   "cell_type": "code",
   "execution_count": 20,
   "metadata": {},
   "outputs": [],
   "source": [
    "c=df['C']\n",
    "o=c.shift(-1).ffill()"
   ]
  },
  {
   "cell_type": "code",
   "execution_count": 23,
   "metadata": {},
   "outputs": [],
   "source": [
    "c.loc[c!=o]+=1"
   ]
  },
  {
   "cell_type": "code",
   "execution_count": 29,
   "metadata": {},
   "outputs": [],
   "source": [
    "p=df['Position']"
   ]
  },
  {
   "cell_type": "code",
   "execution_count": 30,
   "metadata": {},
   "outputs": [],
   "source": [
    "p2= p.shift(-1).fillna(0)"
   ]
  },
  {
   "cell_type": "code",
   "execution_count": 33,
   "metadata": {},
   "outputs": [
    {
     "data": {
      "text/plain": [
       "7964460392.0"
      ]
     },
     "execution_count": 33,
     "metadata": {},
     "output_type": "execute_result"
    }
   ],
   "source": [
    "p.loc[p==p2] += 10000"
   ]
  },
  {
   "cell_type": "code",
   "execution_count": 24,
   "metadata": {},
   "outputs": [
    {
     "ename": "NameError",
     "evalue": "name 'p' is not defined",
     "output_type": "error",
     "traceback": [
      "\u001b[0;31m---------------------------------------------------------------------------\u001b[0m",
      "\u001b[0;31mNameError\u001b[0m                                 Traceback (most recent call last)",
      "\u001b[0;32m<ipython-input-24-423e34cc85df>\u001b[0m in \u001b[0;36m<module>\u001b[0;34m\u001b[0m\n\u001b[0;32m----> 1\u001b[0;31m \u001b[0mdf\u001b[0m\u001b[0;34m.\u001b[0m\u001b[0mloc\u001b[0m\u001b[0;34m[\u001b[0m\u001b[0;34m(\u001b[0m\u001b[0mp\u001b[0m \u001b[0;34m==\u001b[0m \u001b[0mp2\u001b[0m\u001b[0;34m)\u001b[0m\u001b[0;34m.\u001b[0m\u001b[0mindex\u001b[0m\u001b[0;34m,\u001b[0m\u001b[0;34m'market'\u001b[0m\u001b[0;34m]\u001b[0m\u001b[0;34m\u001b[0m\u001b[0;34m\u001b[0m\u001b[0m\n\u001b[0m",
      "\u001b[0;31mNameError\u001b[0m: name 'p' is not defined"
     ]
    }
   ],
   "source": [
    "df.loc[(p == p2).index,'market']"
   ]
  },
  {
   "cell_type": "code",
   "execution_count": null,
   "metadata": {},
   "outputs": [],
   "source": []
  },
  {
   "cell_type": "code",
   "execution_count": 49,
   "metadata": {},
   "outputs": [],
   "source": [
    "df['trade']=np.zeros(df.shape[0])"
   ]
  },
  {
   "cell_type": "code",
   "execution_count": 4,
   "metadata": {
    "scrolled": true
   },
   "outputs": [],
   "source": [
    "class Trade:\n",
    "    def __init__(self):\n",
    "        self.last_pos = None\n",
    "    \n",
    "    def __call__(self, x):\n",
    "        if self.last_pos is None:\n",
    "            self.last_pos = x.Position\n",
    "            return 0\n",
    "        else:\n",
    "            if x.Position == self.last_pos:\n",
    "                return x.Position\n",
    "            self.last_pos = x.Position\n",
    "            return 0"
   ]
  },
  {
   "cell_type": "code",
   "execution_count": 5,
   "metadata": {},
   "outputs": [],
   "source": [
    "trade = Trade()\n",
    "df['trade'] = df.apply(lambda x: trade(x), axis=1)"
   ]
  },
  {
   "cell_type": "code",
   "execution_count": 17,
   "metadata": {},
   "outputs": [],
   "source": [
    "df.fillna(0, inplace=True)"
   ]
  },
  {
   "cell_type": "code",
   "execution_count": 50,
   "metadata": {},
   "outputs": [],
   "source": [
    "df['market'] = df['O'].shift(-1).ffill()"
   ]
  },
  {
   "cell_type": "code",
   "execution_count": 51,
   "metadata": {},
   "outputs": [],
   "source": [
    "df['PnL'] = df['market'].diff().shift(-1).fillna(0)*df['trade']"
   ]
  },
  {
   "cell_type": "code",
   "execution_count": 52,
   "metadata": {
    "scrolled": false
   },
   "outputs": [],
   "source": [
    "df['CumPnL']=df['PnL'].cumsum()"
   ]
  },
  {
   "cell_type": "code",
   "execution_count": 53,
   "metadata": {},
   "outputs": [
    {
     "data": {
      "text/html": [
       "<div>\n",
       "<style scoped>\n",
       "    .dataframe tbody tr th:only-of-type {\n",
       "        vertical-align: middle;\n",
       "    }\n",
       "\n",
       "    .dataframe tbody tr th {\n",
       "        vertical-align: top;\n",
       "    }\n",
       "\n",
       "    .dataframe thead th {\n",
       "        text-align: right;\n",
       "    }\n",
       "</style>\n",
       "<table border=\"1\" class=\"dataframe\">\n",
       "  <thead>\n",
       "    <tr style=\"text-align: right;\">\n",
       "      <th></th>\n",
       "      <th>O</th>\n",
       "      <th>H</th>\n",
       "      <th>L</th>\n",
       "      <th>C</th>\n",
       "      <th>Position</th>\n",
       "      <th>mid_price</th>\n",
       "      <th>PnL</th>\n",
       "      <th>CumPnL</th>\n",
       "      <th>Return</th>\n",
       "      <th>trade</th>\n",
       "      <th>market</th>\n",
       "    </tr>\n",
       "  </thead>\n",
       "  <tbody>\n",
       "    <tr>\n",
       "      <th>0</th>\n",
       "      <td>4558.0</td>\n",
       "      <td>4558.0</td>\n",
       "      <td>4554.0</td>\n",
       "      <td>4555.0</td>\n",
       "      <td>-1.0</td>\n",
       "      <td>4556.0</td>\n",
       "      <td>-0.0</td>\n",
       "      <td>-0.0</td>\n",
       "      <td>0.000110</td>\n",
       "      <td>0.0</td>\n",
       "      <td>4555.0</td>\n",
       "    </tr>\n",
       "    <tr>\n",
       "      <th>1</th>\n",
       "      <td>4555.0</td>\n",
       "      <td>4558.0</td>\n",
       "      <td>4553.0</td>\n",
       "      <td>4555.0</td>\n",
       "      <td>1.0</td>\n",
       "      <td>4555.5</td>\n",
       "      <td>-2.0</td>\n",
       "      <td>-2.0</td>\n",
       "      <td>-0.000329</td>\n",
       "      <td>0.0</td>\n",
       "      <td>4555.0</td>\n",
       "    </tr>\n",
       "    <tr>\n",
       "      <th>2</th>\n",
       "      <td>4555.0</td>\n",
       "      <td>4557.0</td>\n",
       "      <td>4551.0</td>\n",
       "      <td>4553.0</td>\n",
       "      <td>-1.0</td>\n",
       "      <td>4554.0</td>\n",
       "      <td>-1.0</td>\n",
       "      <td>-3.0</td>\n",
       "      <td>-0.000110</td>\n",
       "      <td>0.0</td>\n",
       "      <td>4553.0</td>\n",
       "    </tr>\n",
       "    <tr>\n",
       "      <th>3</th>\n",
       "      <td>4553.0</td>\n",
       "      <td>4556.0</td>\n",
       "      <td>4553.0</td>\n",
       "      <td>4555.0</td>\n",
       "      <td>1.0</td>\n",
       "      <td>4554.5</td>\n",
       "      <td>3.0</td>\n",
       "      <td>0.0</td>\n",
       "      <td>0.000220</td>\n",
       "      <td>0.0</td>\n",
       "      <td>4554.0</td>\n",
       "    </tr>\n",
       "    <tr>\n",
       "      <th>4</th>\n",
       "      <td>4554.0</td>\n",
       "      <td>4558.0</td>\n",
       "      <td>4553.0</td>\n",
       "      <td>4558.0</td>\n",
       "      <td>1.0</td>\n",
       "      <td>4555.5</td>\n",
       "      <td>-4.0</td>\n",
       "      <td>-4.0</td>\n",
       "      <td>-0.000549</td>\n",
       "      <td>0.0</td>\n",
       "      <td>4557.0</td>\n",
       "    </tr>\n",
       "    <tr>\n",
       "      <th>...</th>\n",
       "      <td>...</td>\n",
       "      <td>...</td>\n",
       "      <td>...</td>\n",
       "      <td>...</td>\n",
       "      <td>...</td>\n",
       "      <td>...</td>\n",
       "      <td>...</td>\n",
       "      <td>...</td>\n",
       "      <td>...</td>\n",
       "      <td>...</td>\n",
       "      <td>...</td>\n",
       "    </tr>\n",
       "    <tr>\n",
       "      <th>1303709</th>\n",
       "      <td>11927.0</td>\n",
       "      <td>11934.0</td>\n",
       "      <td>11926.0</td>\n",
       "      <td>11933.0</td>\n",
       "      <td>1.0</td>\n",
       "      <td>11930.0</td>\n",
       "      <td>0.0</td>\n",
       "      <td>-102.0</td>\n",
       "      <td>0.000210</td>\n",
       "      <td>0.0</td>\n",
       "      <td>11933.0</td>\n",
       "    </tr>\n",
       "    <tr>\n",
       "      <th>1303710</th>\n",
       "      <td>11933.0</td>\n",
       "      <td>11935.0</td>\n",
       "      <td>11930.0</td>\n",
       "      <td>11933.0</td>\n",
       "      <td>1.0</td>\n",
       "      <td>11932.5</td>\n",
       "      <td>7.0</td>\n",
       "      <td>-95.0</td>\n",
       "      <td>0.000335</td>\n",
       "      <td>0.0</td>\n",
       "      <td>11933.0</td>\n",
       "    </tr>\n",
       "    <tr>\n",
       "      <th>1303711</th>\n",
       "      <td>11933.0</td>\n",
       "      <td>11941.0</td>\n",
       "      <td>11932.0</td>\n",
       "      <td>11939.0</td>\n",
       "      <td>1.0</td>\n",
       "      <td>11936.5</td>\n",
       "      <td>-2.0</td>\n",
       "      <td>-97.0</td>\n",
       "      <td>0.000084</td>\n",
       "      <td>0.0</td>\n",
       "      <td>11940.0</td>\n",
       "    </tr>\n",
       "    <tr>\n",
       "      <th>1303712</th>\n",
       "      <td>11940.0</td>\n",
       "      <td>11941.0</td>\n",
       "      <td>11934.0</td>\n",
       "      <td>11938.0</td>\n",
       "      <td>1.0</td>\n",
       "      <td>11937.5</td>\n",
       "      <td>0.0</td>\n",
       "      <td>-97.0</td>\n",
       "      <td>0.000000</td>\n",
       "      <td>0.0</td>\n",
       "      <td>11938.0</td>\n",
       "    </tr>\n",
       "    <tr>\n",
       "      <th>1303713</th>\n",
       "      <td>11938.0</td>\n",
       "      <td>11939.0</td>\n",
       "      <td>11936.0</td>\n",
       "      <td>11937.0</td>\n",
       "      <td>1.0</td>\n",
       "      <td>11937.5</td>\n",
       "      <td>0.0</td>\n",
       "      <td>-97.0</td>\n",
       "      <td>0.000000</td>\n",
       "      <td>0.0</td>\n",
       "      <td>11938.0</td>\n",
       "    </tr>\n",
       "  </tbody>\n",
       "</table>\n",
       "<p>1303714 rows × 11 columns</p>\n",
       "</div>"
      ],
      "text/plain": [
       "               O        H        L        C  Position  mid_price  PnL  CumPnL  \\\n",
       "0         4558.0   4558.0   4554.0   4555.0      -1.0     4556.0 -0.0    -0.0   \n",
       "1         4555.0   4558.0   4553.0   4555.0       1.0     4555.5 -2.0    -2.0   \n",
       "2         4555.0   4557.0   4551.0   4553.0      -1.0     4554.0 -1.0    -3.0   \n",
       "3         4553.0   4556.0   4553.0   4555.0       1.0     4554.5  3.0     0.0   \n",
       "4         4554.0   4558.0   4553.0   4558.0       1.0     4555.5 -4.0    -4.0   \n",
       "...          ...      ...      ...      ...       ...        ...  ...     ...   \n",
       "1303709  11927.0  11934.0  11926.0  11933.0       1.0    11930.0  0.0  -102.0   \n",
       "1303710  11933.0  11935.0  11930.0  11933.0       1.0    11932.5  7.0   -95.0   \n",
       "1303711  11933.0  11941.0  11932.0  11939.0       1.0    11936.5 -2.0   -97.0   \n",
       "1303712  11940.0  11941.0  11934.0  11938.0       1.0    11937.5  0.0   -97.0   \n",
       "1303713  11938.0  11939.0  11936.0  11937.0       1.0    11937.5  0.0   -97.0   \n",
       "\n",
       "           Return  trade   market  \n",
       "0        0.000110    0.0   4555.0  \n",
       "1       -0.000329    0.0   4555.0  \n",
       "2       -0.000110    0.0   4553.0  \n",
       "3        0.000220    0.0   4554.0  \n",
       "4       -0.000549    0.0   4557.0  \n",
       "...           ...    ...      ...  \n",
       "1303709  0.000210    0.0  11933.0  \n",
       "1303710  0.000335    0.0  11933.0  \n",
       "1303711  0.000084    0.0  11940.0  \n",
       "1303712  0.000000    0.0  11938.0  \n",
       "1303713  0.000000    0.0  11938.0  \n",
       "\n",
       "[1303714 rows x 11 columns]"
      ]
     },
     "execution_count": 53,
     "metadata": {},
     "output_type": "execute_result"
    }
   ],
   "source": [
    "df"
   ]
  },
  {
   "cell_type": "code",
   "execution_count": 38,
   "metadata": {},
   "outputs": [],
   "source": [
    "df['CumPnL']=(df['market'].diff().shift(-1) * df['trade']).cumsum()"
   ]
  },
  {
   "cell_type": "code",
   "execution_count": null,
   "metadata": {},
   "outputs": [],
   "source": []
  },
  {
   "cell_type": "code",
   "execution_count": null,
   "metadata": {},
   "outputs": [],
   "source": []
  },
  {
   "cell_type": "code",
   "execution_count": null,
   "metadata": {},
   "outputs": [],
   "source": []
  },
  {
   "cell_type": "code",
   "execution_count": 84,
   "metadata": {
    "scrolled": true
   },
   "outputs": [],
   "source": [
    "trade_idx = (df['Position']==df['Position'].shift(1).fillna(0)).index\n",
    "df['trade']=np.zeros(df.shape[0])\n",
    "df['trade'].iloc[trade_idx] = df['Position'].iloc[trade_idx]"
   ]
  },
  {
   "cell_type": "code",
   "execution_count": null,
   "metadata": {},
   "outputs": [],
   "source": []
  },
  {
   "cell_type": "code",
   "execution_count": null,
   "metadata": {},
   "outputs": [],
   "source": []
  },
  {
   "cell_type": "code",
   "execution_count": null,
   "metadata": {},
   "outputs": [],
   "source": []
  },
  {
   "cell_type": "code",
   "execution_count": 3,
   "metadata": {},
   "outputs": [],
   "source": [
    "trade=df[((df['H']+df['L'])/2 > df['L'].shift(-1).fillna(0)) & ((df['H']+df['L'])/2 < df['H'].shift(-1).fillna(0))].index"
   ]
  },
  {
   "cell_type": "code",
   "execution_count": 4,
   "metadata": {},
   "outputs": [],
   "source": [
    "df['trade']=np.zeros(df.shape[0])\n",
    "df['trade'].iloc[trade]=1"
   ]
  },
  {
   "cell_type": "code",
   "execution_count": 5,
   "metadata": {},
   "outputs": [
    {
     "data": {
      "text/plain": [
       "85932.5"
      ]
     },
     "execution_count": 5,
     "metadata": {},
     "output_type": "execute_result"
    }
   ],
   "source": [
    "(df['mid_price'].diff().shift(-1).fillna(0) * df['trade'] * df['Position']).sum()"
   ]
  },
  {
   "cell_type": "code",
   "execution_count": 6,
   "metadata": {},
   "outputs": [],
   "source": [
    "# df['mid_price']=df['O'].shift(-1).fillna(0)+1\n",
    "# df['mid_price']=df['C']-1\n",
    "# df['mid_price'].iloc[-1] = df['mid_price'].iloc[-2]"
   ]
  },
  {
   "cell_type": "code",
   "execution_count": 7,
   "metadata": {},
   "outputs": [],
   "source": [
    "df['PnL']=(df['mid_price'].diff().shift(-1).fillna(0) * df['Position'])"
   ]
  },
  {
   "cell_type": "code",
   "execution_count": 8,
   "metadata": {},
   "outputs": [],
   "source": [
    "txf=pd.read_csv('data/fitx.txt')"
   ]
  },
  {
   "cell_type": "code",
   "execution_count": 9,
   "metadata": {},
   "outputs": [],
   "source": [
    "txf=txf.iloc[1012:]\n",
    "txf.index = range(txf.shape[0])"
   ]
  },
  {
   "cell_type": "code",
   "execution_count": 10,
   "metadata": {},
   "outputs": [],
   "source": [
    "df['Date']=txf['Date']"
   ]
  },
  {
   "cell_type": "code",
   "execution_count": 11,
   "metadata": {},
   "outputs": [],
   "source": [
    "df['Time']=txf['Time']"
   ]
  },
  {
   "cell_type": "code",
   "execution_count": 12,
   "metadata": {
    "scrolled": true
   },
   "outputs": [
    {
     "name": "stderr",
     "output_type": "stream",
     "text": [
      "/home/zekechyo/anaconda3/envs/stockExchange/lib/python3.6/site-packages/ipykernel_launcher.py:1: SettingWithCopyWarning: \n",
      "A value is trying to be set on a copy of a slice from a DataFrame.\n",
      "Try using .loc[row_indexer,col_indexer] = value instead\n",
      "\n",
      "See the caveats in the documentation: https://pandas.pydata.org/pandas-docs/stable/user_guide/indexing.html#returning-a-view-versus-a-copy\n",
      "  \"\"\"Entry point for launching an IPython kernel.\n"
     ]
    }
   ],
   "source": [
    "df[df['Time']=='13:45:00']['Position'] = 0"
   ]
  },
  {
   "cell_type": "code",
   "execution_count": 13,
   "metadata": {},
   "outputs": [],
   "source": [
    "df['PnL']=(df['mid_price'].diff().shift(-1).fillna(0) *df['trade']* df['Position'])"
   ]
  },
  {
   "cell_type": "code",
   "execution_count": 14,
   "metadata": {},
   "outputs": [
    {
     "data": {
      "text/plain": [
       "[<matplotlib.lines.Line2D at 0x7fec8147d048>]"
      ]
     },
     "execution_count": 14,
     "metadata": {},
     "output_type": "execute_result"
    },
    {
     "data": {
      "image/png": "[encoded data removed]",
      "text/plain": [
       "<Figure size 432x288 with 1 Axes>"
      ]
     },
     "metadata": {
      "needs_background": "light"
     },
     "output_type": "display_data"
    }
   ],
   "source": [
    "plt.plot(df['PnL'].cumsum())"
   ]
  },
  {
   "cell_type": "code",
   "execution_count": 20,
   "metadata": {},
   "outputs": [
    {
     "data": {
      "text/plain": [
       "17186500.0"
      ]
     },
     "execution_count": 20,
     "metadata": {},
     "output_type": "execute_result"
    }
   ],
   "source": [
    "df['PnL'].sum() * 200"
   ]
  },
  {
   "cell_type": "code",
   "execution_count": 18,
   "metadata": {},
   "outputs": [
    {
     "data": {
      "text/plain": [
       "29069005.0"
      ]
     },
     "execution_count": 18,
     "metadata": {},
     "output_type": "execute_result"
    }
   ],
   "source": [
    "(df['Position']*df['trade'].diff()).abs().sum() * 49"
   ]
  },
  {
   "cell_type": "code",
   "execution_count": null,
   "metadata": {},
   "outputs": [],
   "source": []
  },
  {
   "cell_type": "code",
   "execution_count": null,
   "metadata": {},
   "outputs": [],
   "source": []
  },
  {
   "cell_type": "code",
   "execution_count": 31,
   "metadata": {},
   "outputs": [],
   "source": [
    "# df['mid_price'].iloc[-1] = df['mid_price'].iloc[-2]"
   ]
  },
  {
   "cell_type": "code",
   "execution_count": 6,
   "metadata": {},
   "outputs": [],
   "source": [
    "df['nxt_O'] = df['O'].shift(-1)"
   ]
  },
  {
   "cell_type": "code",
   "execution_count": 7,
   "metadata": {},
   "outputs": [],
   "source": [
    "df['nxt_O'].iloc[-1] = df['O'].iloc[-1]"
   ]
  },
  {
   "cell_type": "code",
   "execution_count": 8,
   "metadata": {},
   "outputs": [],
   "source": [
    "import matplotlib.pyplot as plt\n"
   ]
  },
  {
   "cell_type": "code",
   "execution_count": 9,
   "metadata": {
    "scrolled": false
   },
   "outputs": [
    {
     "data": {
      "text/plain": [
       "(array([7.87909e+05, 0.00000e+00, 0.00000e+00, 0.00000e+00, 0.00000e+00,\n",
       "        0.00000e+00, 0.00000e+00, 0.00000e+00, 0.00000e+00, 0.00000e+00,\n",
       "        0.00000e+00, 0.00000e+00, 4.85054e+05, 0.00000e+00, 0.00000e+00,\n",
       "        0.00000e+00, 0.00000e+00, 0.00000e+00, 0.00000e+00, 0.00000e+00,\n",
       "        0.00000e+00, 0.00000e+00, 0.00000e+00, 0.00000e+00, 0.00000e+00,\n",
       "        2.57090e+04, 0.00000e+00, 0.00000e+00, 0.00000e+00, 0.00000e+00,\n",
       "        0.00000e+00, 0.00000e+00, 0.00000e+00, 0.00000e+00, 0.00000e+00,\n",
       "        0.00000e+00, 0.00000e+00, 1.89700e+03, 0.00000e+00, 0.00000e+00,\n",
       "        0.00000e+00, 0.00000e+00, 0.00000e+00, 0.00000e+00, 0.00000e+00,\n",
       "        0.00000e+00, 0.00000e+00, 0.00000e+00, 0.00000e+00, 0.00000e+00,\n",
       "        3.66000e+02, 0.00000e+00, 0.00000e+00, 0.00000e+00, 0.00000e+00,\n",
       "        0.00000e+00, 0.00000e+00, 0.00000e+00, 0.00000e+00, 0.00000e+00,\n",
       "        0.00000e+00, 0.00000e+00, 1.94000e+02, 0.00000e+00, 0.00000e+00,\n",
       "        0.00000e+00, 0.00000e+00, 0.00000e+00, 0.00000e+00, 0.00000e+00,\n",
       "        0.00000e+00, 0.00000e+00, 0.00000e+00, 0.00000e+00, 0.00000e+00,\n",
       "        1.33000e+02, 0.00000e+00, 0.00000e+00, 0.00000e+00, 0.00000e+00,\n",
       "        0.00000e+00, 0.00000e+00, 0.00000e+00, 0.00000e+00, 0.00000e+00,\n",
       "        0.00000e+00, 0.00000e+00, 1.09000e+02, 0.00000e+00, 0.00000e+00,\n",
       "        0.00000e+00, 0.00000e+00, 0.00000e+00, 0.00000e+00, 0.00000e+00,\n",
       "        0.00000e+00, 0.00000e+00, 0.00000e+00, 0.00000e+00, 9.40000e+01]),\n",
       " array([0.  , 0.02, 0.04, 0.06, 0.08, 0.1 , 0.12, 0.14, 0.16, 0.18, 0.2 ,\n",
       "        0.22, 0.24, 0.26, 0.28, 0.3 , 0.32, 0.34, 0.36, 0.38, 0.4 , 0.42,\n",
       "        0.44, 0.46, 0.48, 0.5 , 0.52, 0.54, 0.56, 0.58, 0.6 , 0.62, 0.64,\n",
       "        0.66, 0.68, 0.7 , 0.72, 0.74, 0.76, 0.78, 0.8 , 0.82, 0.84, 0.86,\n",
       "        0.88, 0.9 , 0.92, 0.94, 0.96, 0.98, 1.  , 1.02, 1.04, 1.06, 1.08,\n",
       "        1.1 , 1.12, 1.14, 1.16, 1.18, 1.2 , 1.22, 1.24, 1.26, 1.28, 1.3 ,\n",
       "        1.32, 1.34, 1.36, 1.38, 1.4 , 1.42, 1.44, 1.46, 1.48, 1.5 , 1.52,\n",
       "        1.54, 1.56, 1.58, 1.6 , 1.62, 1.64, 1.66, 1.68, 1.7 , 1.72, 1.74,\n",
       "        1.76, 1.78, 1.8 , 1.82, 1.84, 1.86, 1.88, 1.9 , 1.92, 1.94, 1.96,\n",
       "        1.98, 2.  ]),\n",
       " <a list of 100 Patch objects>)"
      ]
     },
     "execution_count": 9,
     "metadata": {},
     "output_type": "execute_result"
    },
    {
     "data": {
      "image/png": "[encoded data removed]",
      "text/plain": [
       "<Figure size 432x288 with 1 Axes>"
      ]
     },
     "metadata": {
      "needs_background": "light"
     },
     "output_type": "display_data"
    }
   ],
   "source": [
    "plt.hist(abs(df['nxt_O'] - df['C'])*0.25, range=(0,2), bins=100)"
   ]
  },
  {
   "cell_type": "code",
   "execution_count": 10,
   "metadata": {
    "scrolled": true
   },
   "outputs": [
    {
     "data": {
      "text/plain": [
       "(array([4.37021e+05, 0.00000e+00, 0.00000e+00, 0.00000e+00, 0.00000e+00,\n",
       "        3.73870e+05, 0.00000e+00, 0.00000e+00, 0.00000e+00, 0.00000e+00,\n",
       "        2.04497e+05, 0.00000e+00, 0.00000e+00, 0.00000e+00, 0.00000e+00,\n",
       "        1.11838e+05, 0.00000e+00, 0.00000e+00, 0.00000e+00, 0.00000e+00,\n",
       "        6.46060e+04, 0.00000e+00, 0.00000e+00, 0.00000e+00, 0.00000e+00,\n",
       "        3.90070e+04, 0.00000e+00, 0.00000e+00, 0.00000e+00, 0.00000e+00,\n",
       "        2.37950e+04, 0.00000e+00, 0.00000e+00, 0.00000e+00, 0.00000e+00,\n",
       "        1.50820e+04, 0.00000e+00, 0.00000e+00, 0.00000e+00, 0.00000e+00,\n",
       "        9.81900e+03, 0.00000e+00, 0.00000e+00, 0.00000e+00, 0.00000e+00,\n",
       "        6.63800e+03, 0.00000e+00, 0.00000e+00, 0.00000e+00, 0.00000e+00,\n",
       "        4.52600e+03, 0.00000e+00, 0.00000e+00, 0.00000e+00, 0.00000e+00,\n",
       "        3.29900e+03, 0.00000e+00, 0.00000e+00, 0.00000e+00, 0.00000e+00,\n",
       "        2.26200e+03, 0.00000e+00, 0.00000e+00, 0.00000e+00, 0.00000e+00,\n",
       "        1.73100e+03, 0.00000e+00, 0.00000e+00, 0.00000e+00, 0.00000e+00,\n",
       "        1.20100e+03, 0.00000e+00, 0.00000e+00, 0.00000e+00, 0.00000e+00,\n",
       "        9.32000e+02, 0.00000e+00, 0.00000e+00, 0.00000e+00, 0.00000e+00,\n",
       "        7.20000e+02, 0.00000e+00, 0.00000e+00, 0.00000e+00, 0.00000e+00,\n",
       "        5.85000e+02, 0.00000e+00, 0.00000e+00, 0.00000e+00, 0.00000e+00,\n",
       "        3.98000e+02, 0.00000e+00, 0.00000e+00, 0.00000e+00, 0.00000e+00,\n",
       "        3.62000e+02, 0.00000e+00, 0.00000e+00, 0.00000e+00, 2.51000e+02]),\n",
       " array([0.  , 0.05, 0.1 , 0.15, 0.2 , 0.25, 0.3 , 0.35, 0.4 , 0.45, 0.5 ,\n",
       "        0.55, 0.6 , 0.65, 0.7 , 0.75, 0.8 , 0.85, 0.9 , 0.95, 1.  , 1.05,\n",
       "        1.1 , 1.15, 1.2 , 1.25, 1.3 , 1.35, 1.4 , 1.45, 1.5 , 1.55, 1.6 ,\n",
       "        1.65, 1.7 , 1.75, 1.8 , 1.85, 1.9 , 1.95, 2.  , 2.05, 2.1 , 2.15,\n",
       "        2.2 , 2.25, 2.3 , 2.35, 2.4 , 2.45, 2.5 , 2.55, 2.6 , 2.65, 2.7 ,\n",
       "        2.75, 2.8 , 2.85, 2.9 , 2.95, 3.  , 3.05, 3.1 , 3.15, 3.2 , 3.25,\n",
       "        3.3 , 3.35, 3.4 , 3.45, 3.5 , 3.55, 3.6 , 3.65, 3.7 , 3.75, 3.8 ,\n",
       "        3.85, 3.9 , 3.95, 4.  , 4.05, 4.1 , 4.15, 4.2 , 4.25, 4.3 , 4.35,\n",
       "        4.4 , 4.45, 4.5 , 4.55, 4.6 , 4.65, 4.7 , 4.75, 4.8 , 4.85, 4.9 ,\n",
       "        4.95, 5.  ]),\n",
       " <a list of 100 Patch objects>)"
      ]
     },
     "execution_count": 10,
     "metadata": {},
     "output_type": "execute_result"
    },
    {
     "data": {
      "image/png": "[encoded data removed]",
      "text/plain": [
       "<Figure size 432x288 with 1 Axes>"
      ]
     },
     "metadata": {
      "needs_background": "light"
     },
     "output_type": "display_data"
    }
   ],
   "source": [
    "plt.hist((df['H'] - df['C'])*0.25, range=(0,5), bins=100)"
   ]
  },
  {
   "cell_type": "code",
   "execution_count": 11,
   "metadata": {},
   "outputs": [
    {
     "data": {
      "text/html": [
       "<div>\n",
       "<style scoped>\n",
       "    .dataframe tbody tr th:only-of-type {\n",
       "        vertical-align: middle;\n",
       "    }\n",
       "\n",
       "    .dataframe tbody tr th {\n",
       "        vertical-align: top;\n",
       "    }\n",
       "\n",
       "    .dataframe thead th {\n",
       "        text-align: right;\n",
       "    }\n",
       "</style>\n",
       "<table border=\"1\" class=\"dataframe\">\n",
       "  <thead>\n",
       "    <tr style=\"text-align: right;\">\n",
       "      <th></th>\n",
       "      <th>O</th>\n",
       "      <th>H</th>\n",
       "      <th>L</th>\n",
       "      <th>C</th>\n",
       "      <th>Position</th>\n",
       "      <th>mid_price</th>\n",
       "      <th>PnL</th>\n",
       "      <th>CumPnL</th>\n",
       "      <th>Return</th>\n",
       "      <th>nxt_O</th>\n",
       "    </tr>\n",
       "  </thead>\n",
       "  <tbody>\n",
       "    <tr>\n",
       "      <th>0</th>\n",
       "      <td>4558.0</td>\n",
       "      <td>4558.0</td>\n",
       "      <td>4554.0</td>\n",
       "      <td>4555.0</td>\n",
       "      <td>-1.0</td>\n",
       "      <td>4556.0</td>\n",
       "      <td>0.5</td>\n",
       "      <td>0.5</td>\n",
       "      <td>0.000110</td>\n",
       "      <td>4555.0</td>\n",
       "    </tr>\n",
       "    <tr>\n",
       "      <th>1</th>\n",
       "      <td>4555.0</td>\n",
       "      <td>4558.0</td>\n",
       "      <td>4553.0</td>\n",
       "      <td>4555.0</td>\n",
       "      <td>1.0</td>\n",
       "      <td>4555.5</td>\n",
       "      <td>-1.5</td>\n",
       "      <td>-1.0</td>\n",
       "      <td>-0.000329</td>\n",
       "      <td>4555.0</td>\n",
       "    </tr>\n",
       "    <tr>\n",
       "      <th>2</th>\n",
       "      <td>4555.0</td>\n",
       "      <td>4557.0</td>\n",
       "      <td>4551.0</td>\n",
       "      <td>4553.0</td>\n",
       "      <td>-1.0</td>\n",
       "      <td>4554.0</td>\n",
       "      <td>-0.5</td>\n",
       "      <td>-1.5</td>\n",
       "      <td>-0.000110</td>\n",
       "      <td>4553.0</td>\n",
       "    </tr>\n",
       "    <tr>\n",
       "      <th>3</th>\n",
       "      <td>4553.0</td>\n",
       "      <td>4556.0</td>\n",
       "      <td>4553.0</td>\n",
       "      <td>4555.0</td>\n",
       "      <td>1.0</td>\n",
       "      <td>4554.5</td>\n",
       "      <td>1.0</td>\n",
       "      <td>-0.5</td>\n",
       "      <td>0.000220</td>\n",
       "      <td>4554.0</td>\n",
       "    </tr>\n",
       "    <tr>\n",
       "      <th>4</th>\n",
       "      <td>4554.0</td>\n",
       "      <td>4558.0</td>\n",
       "      <td>4553.0</td>\n",
       "      <td>4558.0</td>\n",
       "      <td>1.0</td>\n",
       "      <td>4555.5</td>\n",
       "      <td>-2.5</td>\n",
       "      <td>-3.0</td>\n",
       "      <td>-0.000549</td>\n",
       "      <td>4557.0</td>\n",
       "    </tr>\n",
       "    <tr>\n",
       "      <th>...</th>\n",
       "      <td>...</td>\n",
       "      <td>...</td>\n",
       "      <td>...</td>\n",
       "      <td>...</td>\n",
       "      <td>...</td>\n",
       "      <td>...</td>\n",
       "      <td>...</td>\n",
       "      <td>...</td>\n",
       "      <td>...</td>\n",
       "      <td>...</td>\n",
       "    </tr>\n",
       "    <tr>\n",
       "      <th>1303709</th>\n",
       "      <td>11927.0</td>\n",
       "      <td>11934.0</td>\n",
       "      <td>11926.0</td>\n",
       "      <td>11933.0</td>\n",
       "      <td>1.0</td>\n",
       "      <td>11930.0</td>\n",
       "      <td>2.5</td>\n",
       "      <td>705394.5</td>\n",
       "      <td>0.000210</td>\n",
       "      <td>11933.0</td>\n",
       "    </tr>\n",
       "    <tr>\n",
       "      <th>1303710</th>\n",
       "      <td>11933.0</td>\n",
       "      <td>11935.0</td>\n",
       "      <td>11930.0</td>\n",
       "      <td>11933.0</td>\n",
       "      <td>1.0</td>\n",
       "      <td>11932.5</td>\n",
       "      <td>4.0</td>\n",
       "      <td>705398.5</td>\n",
       "      <td>0.000335</td>\n",
       "      <td>11933.0</td>\n",
       "    </tr>\n",
       "    <tr>\n",
       "      <th>1303711</th>\n",
       "      <td>11933.0</td>\n",
       "      <td>11941.0</td>\n",
       "      <td>11932.0</td>\n",
       "      <td>11939.0</td>\n",
       "      <td>1.0</td>\n",
       "      <td>11936.5</td>\n",
       "      <td>1.0</td>\n",
       "      <td>705399.5</td>\n",
       "      <td>0.000084</td>\n",
       "      <td>11940.0</td>\n",
       "    </tr>\n",
       "    <tr>\n",
       "      <th>1303712</th>\n",
       "      <td>11940.0</td>\n",
       "      <td>11941.0</td>\n",
       "      <td>11934.0</td>\n",
       "      <td>11938.0</td>\n",
       "      <td>1.0</td>\n",
       "      <td>11937.5</td>\n",
       "      <td>0.0</td>\n",
       "      <td>705399.5</td>\n",
       "      <td>0.000000</td>\n",
       "      <td>11938.0</td>\n",
       "    </tr>\n",
       "    <tr>\n",
       "      <th>1303713</th>\n",
       "      <td>11938.0</td>\n",
       "      <td>11939.0</td>\n",
       "      <td>11936.0</td>\n",
       "      <td>11937.0</td>\n",
       "      <td>1.0</td>\n",
       "      <td>11937.5</td>\n",
       "      <td>0.0</td>\n",
       "      <td>705399.5</td>\n",
       "      <td>0.000000</td>\n",
       "      <td>11938.0</td>\n",
       "    </tr>\n",
       "  </tbody>\n",
       "</table>\n",
       "<p>1303714 rows × 10 columns</p>\n",
       "</div>"
      ],
      "text/plain": [
       "               O        H        L        C  Position  mid_price  PnL  \\\n",
       "0         4558.0   4558.0   4554.0   4555.0      -1.0     4556.0  0.5   \n",
       "1         4555.0   4558.0   4553.0   4555.0       1.0     4555.5 -1.5   \n",
       "2         4555.0   4557.0   4551.0   4553.0      -1.0     4554.0 -0.5   \n",
       "3         4553.0   4556.0   4553.0   4555.0       1.0     4554.5  1.0   \n",
       "4         4554.0   4558.0   4553.0   4558.0       1.0     4555.5 -2.5   \n",
       "...          ...      ...      ...      ...       ...        ...  ...   \n",
       "1303709  11927.0  11934.0  11926.0  11933.0       1.0    11930.0  2.5   \n",
       "1303710  11933.0  11935.0  11930.0  11933.0       1.0    11932.5  4.0   \n",
       "1303711  11933.0  11941.0  11932.0  11939.0       1.0    11936.5  1.0   \n",
       "1303712  11940.0  11941.0  11934.0  11938.0       1.0    11937.5  0.0   \n",
       "1303713  11938.0  11939.0  11936.0  11937.0       1.0    11937.5  0.0   \n",
       "\n",
       "           CumPnL    Return    nxt_O  \n",
       "0             0.5  0.000110   4555.0  \n",
       "1            -1.0 -0.000329   4555.0  \n",
       "2            -1.5 -0.000110   4553.0  \n",
       "3            -0.5  0.000220   4554.0  \n",
       "4            -3.0 -0.000549   4557.0  \n",
       "...           ...       ...      ...  \n",
       "1303709  705394.5  0.000210  11933.0  \n",
       "1303710  705398.5  0.000335  11933.0  \n",
       "1303711  705399.5  0.000084  11940.0  \n",
       "1303712  705399.5  0.000000  11938.0  \n",
       "1303713  705399.5  0.000000  11938.0  \n",
       "\n",
       "[1303714 rows x 10 columns]"
      ]
     },
     "execution_count": 11,
     "metadata": {},
     "output_type": "execute_result"
    }
   ],
   "source": [
    "df"
   ]
  },
  {
   "cell_type": "code",
   "execution_count": 12,
   "metadata": {},
   "outputs": [],
   "source": [
    "df = pd.read_csv('journal/strat_fitx.csv')"
   ]
  },
  {
   "cell_type": "code",
   "execution_count": 13,
   "metadata": {},
   "outputs": [],
   "source": [
    "df.columns = ['O', 'H', 'L', 'C', 'Position', 'market_price', 'PnL', 'CumPnL', 'Return']"
   ]
  },
  {
   "cell_type": "code",
   "execution_count": 14,
   "metadata": {},
   "outputs": [
    {
     "data": {
      "text/plain": [
       "705399.5"
      ]
     },
     "execution_count": 14,
     "metadata": {},
     "output_type": "execute_result"
    }
   ],
   "source": [
    "(df['market_price'].diff().shift(-1) * df['Position']).sum()"
   ]
  },
  {
   "cell_type": "code",
   "execution_count": 15,
   "metadata": {},
   "outputs": [],
   "source": [
    "df['market_price'] = df['O']"
   ]
  },
  {
   "cell_type": "code",
   "execution_count": 16,
   "metadata": {},
   "outputs": [],
   "source": [
    "df['market_price'] = df['market_price'].shift(-1)"
   ]
  },
  {
   "cell_type": "code",
   "execution_count": 17,
   "metadata": {},
   "outputs": [],
   "source": [
    "df.dropna(inplace=True)"
   ]
  },
  {
   "cell_type": "code",
   "execution_count": 18,
   "metadata": {},
   "outputs": [
    {
     "data": {
      "text/html": [
       "<div>\n",
       "<style scoped>\n",
       "    .dataframe tbody tr th:only-of-type {\n",
       "        vertical-align: middle;\n",
       "    }\n",
       "\n",
       "    .dataframe tbody tr th {\n",
       "        vertical-align: top;\n",
       "    }\n",
       "\n",
       "    .dataframe thead th {\n",
       "        text-align: right;\n",
       "    }\n",
       "</style>\n",
       "<table border=\"1\" class=\"dataframe\">\n",
       "  <thead>\n",
       "    <tr style=\"text-align: right;\">\n",
       "      <th></th>\n",
       "      <th>O</th>\n",
       "      <th>H</th>\n",
       "      <th>L</th>\n",
       "      <th>C</th>\n",
       "      <th>Position</th>\n",
       "      <th>market_price</th>\n",
       "      <th>PnL</th>\n",
       "      <th>CumPnL</th>\n",
       "      <th>Return</th>\n",
       "    </tr>\n",
       "  </thead>\n",
       "  <tbody>\n",
       "    <tr>\n",
       "      <th>0</th>\n",
       "      <td>4558.0</td>\n",
       "      <td>4558.0</td>\n",
       "      <td>4554.0</td>\n",
       "      <td>4555.0</td>\n",
       "      <td>-1.0</td>\n",
       "      <td>4555.0</td>\n",
       "      <td>0.5</td>\n",
       "      <td>0.5</td>\n",
       "      <td>0.000110</td>\n",
       "    </tr>\n",
       "    <tr>\n",
       "      <th>1</th>\n",
       "      <td>4555.0</td>\n",
       "      <td>4558.0</td>\n",
       "      <td>4553.0</td>\n",
       "      <td>4555.0</td>\n",
       "      <td>1.0</td>\n",
       "      <td>4555.0</td>\n",
       "      <td>-1.5</td>\n",
       "      <td>-1.0</td>\n",
       "      <td>-0.000329</td>\n",
       "    </tr>\n",
       "    <tr>\n",
       "      <th>2</th>\n",
       "      <td>4555.0</td>\n",
       "      <td>4557.0</td>\n",
       "      <td>4551.0</td>\n",
       "      <td>4553.0</td>\n",
       "      <td>-1.0</td>\n",
       "      <td>4553.0</td>\n",
       "      <td>-0.5</td>\n",
       "      <td>-1.5</td>\n",
       "      <td>-0.000110</td>\n",
       "    </tr>\n",
       "    <tr>\n",
       "      <th>3</th>\n",
       "      <td>4553.0</td>\n",
       "      <td>4556.0</td>\n",
       "      <td>4553.0</td>\n",
       "      <td>4555.0</td>\n",
       "      <td>1.0</td>\n",
       "      <td>4554.0</td>\n",
       "      <td>1.0</td>\n",
       "      <td>-0.5</td>\n",
       "      <td>0.000220</td>\n",
       "    </tr>\n",
       "    <tr>\n",
       "      <th>4</th>\n",
       "      <td>4554.0</td>\n",
       "      <td>4558.0</td>\n",
       "      <td>4553.0</td>\n",
       "      <td>4558.0</td>\n",
       "      <td>1.0</td>\n",
       "      <td>4557.0</td>\n",
       "      <td>-2.5</td>\n",
       "      <td>-3.0</td>\n",
       "      <td>-0.000549</td>\n",
       "    </tr>\n",
       "    <tr>\n",
       "      <th>...</th>\n",
       "      <td>...</td>\n",
       "      <td>...</td>\n",
       "      <td>...</td>\n",
       "      <td>...</td>\n",
       "      <td>...</td>\n",
       "      <td>...</td>\n",
       "      <td>...</td>\n",
       "      <td>...</td>\n",
       "      <td>...</td>\n",
       "    </tr>\n",
       "    <tr>\n",
       "      <th>1303708</th>\n",
       "      <td>11929.0</td>\n",
       "      <td>11932.0</td>\n",
       "      <td>11925.0</td>\n",
       "      <td>11927.0</td>\n",
       "      <td>-1.0</td>\n",
       "      <td>11927.0</td>\n",
       "      <td>-1.5</td>\n",
       "      <td>705392.0</td>\n",
       "      <td>-0.000126</td>\n",
       "    </tr>\n",
       "    <tr>\n",
       "      <th>1303709</th>\n",
       "      <td>11927.0</td>\n",
       "      <td>11934.0</td>\n",
       "      <td>11926.0</td>\n",
       "      <td>11933.0</td>\n",
       "      <td>1.0</td>\n",
       "      <td>11933.0</td>\n",
       "      <td>2.5</td>\n",
       "      <td>705394.5</td>\n",
       "      <td>0.000210</td>\n",
       "    </tr>\n",
       "    <tr>\n",
       "      <th>1303710</th>\n",
       "      <td>11933.0</td>\n",
       "      <td>11935.0</td>\n",
       "      <td>11930.0</td>\n",
       "      <td>11933.0</td>\n",
       "      <td>1.0</td>\n",
       "      <td>11933.0</td>\n",
       "      <td>4.0</td>\n",
       "      <td>705398.5</td>\n",
       "      <td>0.000335</td>\n",
       "    </tr>\n",
       "    <tr>\n",
       "      <th>1303711</th>\n",
       "      <td>11933.0</td>\n",
       "      <td>11941.0</td>\n",
       "      <td>11932.0</td>\n",
       "      <td>11939.0</td>\n",
       "      <td>1.0</td>\n",
       "      <td>11940.0</td>\n",
       "      <td>1.0</td>\n",
       "      <td>705399.5</td>\n",
       "      <td>0.000084</td>\n",
       "    </tr>\n",
       "    <tr>\n",
       "      <th>1303712</th>\n",
       "      <td>11940.0</td>\n",
       "      <td>11941.0</td>\n",
       "      <td>11934.0</td>\n",
       "      <td>11938.0</td>\n",
       "      <td>1.0</td>\n",
       "      <td>11938.0</td>\n",
       "      <td>0.0</td>\n",
       "      <td>705399.5</td>\n",
       "      <td>0.000000</td>\n",
       "    </tr>\n",
       "  </tbody>\n",
       "</table>\n",
       "<p>1303713 rows × 9 columns</p>\n",
       "</div>"
      ],
      "text/plain": [
       "               O        H        L        C  Position  market_price  PnL  \\\n",
       "0         4558.0   4558.0   4554.0   4555.0      -1.0        4555.0  0.5   \n",
       "1         4555.0   4558.0   4553.0   4555.0       1.0        4555.0 -1.5   \n",
       "2         4555.0   4557.0   4551.0   4553.0      -1.0        4553.0 -0.5   \n",
       "3         4553.0   4556.0   4553.0   4555.0       1.0        4554.0  1.0   \n",
       "4         4554.0   4558.0   4553.0   4558.0       1.0        4557.0 -2.5   \n",
       "...          ...      ...      ...      ...       ...           ...  ...   \n",
       "1303708  11929.0  11932.0  11925.0  11927.0      -1.0       11927.0 -1.5   \n",
       "1303709  11927.0  11934.0  11926.0  11933.0       1.0       11933.0  2.5   \n",
       "1303710  11933.0  11935.0  11930.0  11933.0       1.0       11933.0  4.0   \n",
       "1303711  11933.0  11941.0  11932.0  11939.0       1.0       11940.0  1.0   \n",
       "1303712  11940.0  11941.0  11934.0  11938.0       1.0       11938.0  0.0   \n",
       "\n",
       "           CumPnL    Return  \n",
       "0             0.5  0.000110  \n",
       "1            -1.0 -0.000329  \n",
       "2            -1.5 -0.000110  \n",
       "3            -0.5  0.000220  \n",
       "4            -3.0 -0.000549  \n",
       "...           ...       ...  \n",
       "1303708  705392.0 -0.000126  \n",
       "1303709  705394.5  0.000210  \n",
       "1303710  705398.5  0.000335  \n",
       "1303711  705399.5  0.000084  \n",
       "1303712  705399.5  0.000000  \n",
       "\n",
       "[1303713 rows x 9 columns]"
      ]
     },
     "execution_count": 18,
     "metadata": {},
     "output_type": "execute_result"
    }
   ],
   "source": [
    "df"
   ]
  },
  {
   "cell_type": "code",
   "execution_count": 19,
   "metadata": {},
   "outputs": [
    {
     "data": {
      "text/plain": [
       "0          NaN\n",
       "1          0.0\n",
       "2         -2.0\n",
       "3          1.0\n",
       "4          3.0\n",
       "          ... \n",
       "1303708   -2.0\n",
       "1303709    6.0\n",
       "1303710    0.0\n",
       "1303711    7.0\n",
       "1303712   -2.0\n",
       "Name: market_price, Length: 1303713, dtype: float64"
      ]
     },
     "execution_count": 19,
     "metadata": {},
     "output_type": "execute_result"
    }
   ],
   "source": [
    "df['market_price'].diff()"
   ]
  },
  {
   "cell_type": "code",
   "execution_count": 20,
   "metadata": {},
   "outputs": [],
   "source": [
    "df['PnL'] = df['market_price'].diff().shift(-1) * df['Position']"
   ]
  },
  {
   "cell_type": "code",
   "execution_count": 21,
   "metadata": {},
   "outputs": [
    {
     "data": {
      "text/html": [
       "<div>\n",
       "<style scoped>\n",
       "    .dataframe tbody tr th:only-of-type {\n",
       "        vertical-align: middle;\n",
       "    }\n",
       "\n",
       "    .dataframe tbody tr th {\n",
       "        vertical-align: top;\n",
       "    }\n",
       "\n",
       "    .dataframe thead th {\n",
       "        text-align: right;\n",
       "    }\n",
       "</style>\n",
       "<table border=\"1\" class=\"dataframe\">\n",
       "  <thead>\n",
       "    <tr style=\"text-align: right;\">\n",
       "      <th></th>\n",
       "      <th>O</th>\n",
       "      <th>H</th>\n",
       "      <th>L</th>\n",
       "      <th>C</th>\n",
       "      <th>Position</th>\n",
       "      <th>market_price</th>\n",
       "      <th>PnL</th>\n",
       "      <th>CumPnL</th>\n",
       "      <th>Return</th>\n",
       "    </tr>\n",
       "  </thead>\n",
       "  <tbody>\n",
       "    <tr>\n",
       "      <th>0</th>\n",
       "      <td>4558.0</td>\n",
       "      <td>4558.0</td>\n",
       "      <td>4554.0</td>\n",
       "      <td>4555.0</td>\n",
       "      <td>-1.0</td>\n",
       "      <td>4555.0</td>\n",
       "      <td>-0.0</td>\n",
       "      <td>0.5</td>\n",
       "      <td>0.000110</td>\n",
       "    </tr>\n",
       "    <tr>\n",
       "      <th>1</th>\n",
       "      <td>4555.0</td>\n",
       "      <td>4558.0</td>\n",
       "      <td>4553.0</td>\n",
       "      <td>4555.0</td>\n",
       "      <td>1.0</td>\n",
       "      <td>4555.0</td>\n",
       "      <td>-2.0</td>\n",
       "      <td>-1.0</td>\n",
       "      <td>-0.000329</td>\n",
       "    </tr>\n",
       "    <tr>\n",
       "      <th>2</th>\n",
       "      <td>4555.0</td>\n",
       "      <td>4557.0</td>\n",
       "      <td>4551.0</td>\n",
       "      <td>4553.0</td>\n",
       "      <td>-1.0</td>\n",
       "      <td>4553.0</td>\n",
       "      <td>-1.0</td>\n",
       "      <td>-1.5</td>\n",
       "      <td>-0.000110</td>\n",
       "    </tr>\n",
       "    <tr>\n",
       "      <th>3</th>\n",
       "      <td>4553.0</td>\n",
       "      <td>4556.0</td>\n",
       "      <td>4553.0</td>\n",
       "      <td>4555.0</td>\n",
       "      <td>1.0</td>\n",
       "      <td>4554.0</td>\n",
       "      <td>3.0</td>\n",
       "      <td>-0.5</td>\n",
       "      <td>0.000220</td>\n",
       "    </tr>\n",
       "    <tr>\n",
       "      <th>4</th>\n",
       "      <td>4554.0</td>\n",
       "      <td>4558.0</td>\n",
       "      <td>4553.0</td>\n",
       "      <td>4558.0</td>\n",
       "      <td>1.0</td>\n",
       "      <td>4557.0</td>\n",
       "      <td>-4.0</td>\n",
       "      <td>-3.0</td>\n",
       "      <td>-0.000549</td>\n",
       "    </tr>\n",
       "    <tr>\n",
       "      <th>...</th>\n",
       "      <td>...</td>\n",
       "      <td>...</td>\n",
       "      <td>...</td>\n",
       "      <td>...</td>\n",
       "      <td>...</td>\n",
       "      <td>...</td>\n",
       "      <td>...</td>\n",
       "      <td>...</td>\n",
       "      <td>...</td>\n",
       "    </tr>\n",
       "    <tr>\n",
       "      <th>1303708</th>\n",
       "      <td>11929.0</td>\n",
       "      <td>11932.0</td>\n",
       "      <td>11925.0</td>\n",
       "      <td>11927.0</td>\n",
       "      <td>-1.0</td>\n",
       "      <td>11927.0</td>\n",
       "      <td>-6.0</td>\n",
       "      <td>705392.0</td>\n",
       "      <td>-0.000126</td>\n",
       "    </tr>\n",
       "    <tr>\n",
       "      <th>1303709</th>\n",
       "      <td>11927.0</td>\n",
       "      <td>11934.0</td>\n",
       "      <td>11926.0</td>\n",
       "      <td>11933.0</td>\n",
       "      <td>1.0</td>\n",
       "      <td>11933.0</td>\n",
       "      <td>0.0</td>\n",
       "      <td>705394.5</td>\n",
       "      <td>0.000210</td>\n",
       "    </tr>\n",
       "    <tr>\n",
       "      <th>1303710</th>\n",
       "      <td>11933.0</td>\n",
       "      <td>11935.0</td>\n",
       "      <td>11930.0</td>\n",
       "      <td>11933.0</td>\n",
       "      <td>1.0</td>\n",
       "      <td>11933.0</td>\n",
       "      <td>7.0</td>\n",
       "      <td>705398.5</td>\n",
       "      <td>0.000335</td>\n",
       "    </tr>\n",
       "    <tr>\n",
       "      <th>1303711</th>\n",
       "      <td>11933.0</td>\n",
       "      <td>11941.0</td>\n",
       "      <td>11932.0</td>\n",
       "      <td>11939.0</td>\n",
       "      <td>1.0</td>\n",
       "      <td>11940.0</td>\n",
       "      <td>-2.0</td>\n",
       "      <td>705399.5</td>\n",
       "      <td>0.000084</td>\n",
       "    </tr>\n",
       "    <tr>\n",
       "      <th>1303712</th>\n",
       "      <td>11940.0</td>\n",
       "      <td>11941.0</td>\n",
       "      <td>11934.0</td>\n",
       "      <td>11938.0</td>\n",
       "      <td>1.0</td>\n",
       "      <td>11938.0</td>\n",
       "      <td>NaN</td>\n",
       "      <td>705399.5</td>\n",
       "      <td>0.000000</td>\n",
       "    </tr>\n",
       "  </tbody>\n",
       "</table>\n",
       "<p>1303713 rows × 9 columns</p>\n",
       "</div>"
      ],
      "text/plain": [
       "               O        H        L        C  Position  market_price  PnL  \\\n",
       "0         4558.0   4558.0   4554.0   4555.0      -1.0        4555.0 -0.0   \n",
       "1         4555.0   4558.0   4553.0   4555.0       1.0        4555.0 -2.0   \n",
       "2         4555.0   4557.0   4551.0   4553.0      -1.0        4553.0 -1.0   \n",
       "3         4553.0   4556.0   4553.0   4555.0       1.0        4554.0  3.0   \n",
       "4         4554.0   4558.0   4553.0   4558.0       1.0        4557.0 -4.0   \n",
       "...          ...      ...      ...      ...       ...           ...  ...   \n",
       "1303708  11929.0  11932.0  11925.0  11927.0      -1.0       11927.0 -6.0   \n",
       "1303709  11927.0  11934.0  11926.0  11933.0       1.0       11933.0  0.0   \n",
       "1303710  11933.0  11935.0  11930.0  11933.0       1.0       11933.0  7.0   \n",
       "1303711  11933.0  11941.0  11932.0  11939.0       1.0       11940.0 -2.0   \n",
       "1303712  11940.0  11941.0  11934.0  11938.0       1.0       11938.0  NaN   \n",
       "\n",
       "           CumPnL    Return  \n",
       "0             0.5  0.000110  \n",
       "1            -1.0 -0.000329  \n",
       "2            -1.5 -0.000110  \n",
       "3            -0.5  0.000220  \n",
       "4            -3.0 -0.000549  \n",
       "...           ...       ...  \n",
       "1303708  705392.0 -0.000126  \n",
       "1303709  705394.5  0.000210  \n",
       "1303710  705398.5  0.000335  \n",
       "1303711  705399.5  0.000084  \n",
       "1303712  705399.5  0.000000  \n",
       "\n",
       "[1303713 rows x 9 columns]"
      ]
     },
     "execution_count": 21,
     "metadata": {},
     "output_type": "execute_result"
    }
   ],
   "source": [
    "df"
   ]
  },
  {
   "cell_type": "code",
   "execution_count": 22,
   "metadata": {},
   "outputs": [],
   "source": [
    "df['PnL'] = df['market_price'].diff() * df['Position']"
   ]
  },
  {
   "cell_type": "code",
   "execution_count": 23,
   "metadata": {},
   "outputs": [],
   "source": [
    "df.dropna(inplace=True)"
   ]
  },
  {
   "cell_type": "code",
   "execution_count": 24,
   "metadata": {},
   "outputs": [],
   "source": [
    "df['CumPnL']=df['PnL'].cumsum() * 200"
   ]
  },
  {
   "cell_type": "code",
   "execution_count": 25,
   "metadata": {},
   "outputs": [
    {
     "data": {
      "text/plain": [
       "1                  0.0\n",
       "2                400.0\n",
       "3                600.0\n",
       "4               1200.0\n",
       "5               2000.0\n",
       "              ...     \n",
       "1303708    296913200.0\n",
       "1303709    296914400.0\n",
       "1303710    296914400.0\n",
       "1303711    296915800.0\n",
       "1303712    296915400.0\n",
       "Name: CumPnL, Length: 1303712, dtype: float64"
      ]
     },
     "execution_count": 25,
     "metadata": {},
     "output_type": "execute_result"
    }
   ],
   "source": [
    "df['CumPnL']"
   ]
  },
  {
   "cell_type": "markdown",
   "metadata": {},
   "source": [
    "# Usage"
   ]
  },
  {
   "cell_type": "code",
   "execution_count": 38,
   "metadata": {},
   "outputs": [],
   "source": [
    "import numpy as np\n",
    "import pandas as pd\n",
    "import numpy as np\n",
    "import lib.performance as analysis\n",
    "import matplotlib.pyplot as plt"
   ]
  },
  {
   "cell_type": "code",
   "execution_count": 2,
   "metadata": {},
   "outputs": [
    {
     "ename": "NameError",
     "evalue": "name 'pd' is not defined",
     "output_type": "error",
     "traceback": [
      "\u001b[0;31m---------------------------------------------------------------------------\u001b[0m",
      "\u001b[0;31mNameError\u001b[0m                                 Traceback (most recent call last)",
      "\u001b[0;32m<ipython-input-2-e984ab85bb30>\u001b[0m in \u001b[0;36m<module>\u001b[0;34m\u001b[0m\n\u001b[0;32m----> 1\u001b[0;31m \u001b[0mdf\u001b[0m \u001b[0;34m=\u001b[0m \u001b[0mpd\u001b[0m\u001b[0;34m.\u001b[0m\u001b[0mread_csv\u001b[0m\u001b[0;34m(\u001b[0m\u001b[0;34m'journal/strat_fitx.csv'\u001b[0m\u001b[0;34m)\u001b[0m\u001b[0;34m\u001b[0m\u001b[0;34m\u001b[0m\u001b[0m\n\u001b[0m",
      "\u001b[0;31mNameError\u001b[0m: name 'pd' is not defined"
     ]
    }
   ],
   "source": [
    "df = pd.read_csv('journal/strat_fitx.csv')"
   ]
  },
  {
   "cell_type": "code",
   "execution_count": 3,
   "metadata": {
    "scrolled": true
   },
   "outputs": [
    {
     "ename": "NameError",
     "evalue": "name 'np' is not defined",
     "output_type": "error",
     "traceback": [
      "\u001b[0;31m---------------------------------------------------------------------------\u001b[0m",
      "\u001b[0;31mNameError\u001b[0m                                 Traceback (most recent call last)",
      "\u001b[0;32m<ipython-input-3-d80383666fc4>\u001b[0m in \u001b[0;36m<module>\u001b[0;34m\u001b[0m\n\u001b[0;32m----> 1\u001b[0;31m \u001b[0mdf\u001b[0m\u001b[0;34m[\u001b[0m\u001b[0;34m'Open'\u001b[0m\u001b[0;34m]\u001b[0m \u001b[0;34m=\u001b[0m \u001b[0mnp\u001b[0m\u001b[0;34m.\u001b[0m\u001b[0mzeros\u001b[0m\u001b[0;34m(\u001b[0m\u001b[0mdf\u001b[0m\u001b[0;34m.\u001b[0m\u001b[0mshape\u001b[0m\u001b[0;34m[\u001b[0m\u001b[0;36m0\u001b[0m\u001b[0;34m]\u001b[0m\u001b[0;34m)\u001b[0m\u001b[0;34m\u001b[0m\u001b[0;34m\u001b[0m\u001b[0m\n\u001b[0m",
      "\u001b[0;31mNameError\u001b[0m: name 'np' is not defined"
     ]
    }
   ],
   "source": [
    "df['Open'] = np.zeros(df.shape[0])"
   ]
  },
  {
   "cell_type": "code",
   "execution_count": 41,
   "metadata": {
    "scrolled": true
   },
   "outputs": [
    {
     "name": "stderr",
     "output_type": "stream",
     "text": [
      "/home/zekechyo/anaconda3/envs/stockExchange/lib/python3.6/site-packages/pandas/core/internals/blocks.py:914: FutureWarning: Using a non-tuple sequence for multidimensional indexing is deprecated; use `arr[tuple(seq)]` instead of `arr[seq]`. In the future this will be interpreted as an array index, `arr[np.array(seq)]`, which will result either in an error or a different result.\n",
      "  values[indexer] = value\n"
     ]
    }
   ],
   "source": [
    "df['mid_price'] = df['C']\n",
    "df['order'] = df['mid_price']+2*df['Position']\n",
    "df['order_buy'] = df['order'].copy()\n",
    "df['order_sell'] = df['order'].copy()\n",
    "df['order_buy'].iloc[[df['Position']<=0]]=0\n",
    "df['order_sell'].iloc[[df['Position']>0]]=0"
   ]
  },
  {
   "cell_type": "code",
   "execution_count": 43,
   "metadata": {},
   "outputs": [],
   "source": [
    "df.columns = ['O', 'H', 'L', 'C', 'Position', 'market_price', 'PnL', 'CumPnL', 'Return', 'Open', 'order', 'order_buy', 'order_sell']"
   ]
  },
  {
   "cell_type": "code",
   "execution_count": 44,
   "metadata": {},
   "outputs": [],
   "source": [
    "class Order:\n",
    "    def __init__(self):\n",
    "        self.last_order = 0\n",
    "        self.price = 0\n",
    "        self.last_pos=0\n",
    "        self.last_get = 0\n",
    "    def __call__(self, x):\n",
    "        get=0\n",
    "        \n",
    "        if self.last_order == x['Position']:\n",
    "            get = self.last_get\n",
    "        \n",
    "        if self.last_order == 1:\n",
    "            if x['market_price'] >= self.price:\n",
    "                get=1\n",
    "        elif self.last_order == -1:\n",
    "            if x['market_price'] <= self.price:\n",
    "                get=1\n",
    "\n",
    "        else:\n",
    "            get=0\n",
    "            \n",
    "        self.last_get = get\n",
    "        \n",
    "        \n",
    "        if x['Position'] < 0:\n",
    "            self.last_order = -1\n",
    "            self.price = x['order_sell']\n",
    "            self.last_pos = x['Position']\n",
    "        elif x['Position'] > 0:\n",
    "            self.last_order = 1\n",
    "            self.price = x['order_buy']\n",
    "            self.last_pos=x['Position']\n",
    "            \n",
    "            \n",
    "            \n",
    "        return get"
   ]
  },
  {
   "cell_type": "code",
   "execution_count": 45,
   "metadata": {
    "scrolled": true
   },
   "outputs": [],
   "source": [
    "order = Order()\n",
    "df['Open'] = df.apply(lambda x: order(x), axis=1)"
   ]
  },
  {
   "cell_type": "code",
   "execution_count": 46,
   "metadata": {},
   "outputs": [
    {
     "data": {
      "text/html": [
       "<div>\n",
       "<style scoped>\n",
       "    .dataframe tbody tr th:only-of-type {\n",
       "        vertical-align: middle;\n",
       "    }\n",
       "\n",
       "    .dataframe tbody tr th {\n",
       "        vertical-align: top;\n",
       "    }\n",
       "\n",
       "    .dataframe thead th {\n",
       "        text-align: right;\n",
       "    }\n",
       "</style>\n",
       "<table border=\"1\" class=\"dataframe\">\n",
       "  <thead>\n",
       "    <tr style=\"text-align: right;\">\n",
       "      <th></th>\n",
       "      <th>O</th>\n",
       "      <th>H</th>\n",
       "      <th>L</th>\n",
       "      <th>C</th>\n",
       "      <th>Position</th>\n",
       "      <th>market_price</th>\n",
       "      <th>PnL</th>\n",
       "      <th>CumPnL</th>\n",
       "      <th>Return</th>\n",
       "      <th>Open</th>\n",
       "      <th>order</th>\n",
       "      <th>order_buy</th>\n",
       "      <th>order_sell</th>\n",
       "    </tr>\n",
       "  </thead>\n",
       "  <tbody>\n",
       "    <tr>\n",
       "      <th>0</th>\n",
       "      <td>4558.0</td>\n",
       "      <td>4558.0</td>\n",
       "      <td>4554.0</td>\n",
       "      <td>4555.0</td>\n",
       "      <td>-1.0</td>\n",
       "      <td>4555.0</td>\n",
       "      <td>0.5</td>\n",
       "      <td>0.5</td>\n",
       "      <td>0.000110</td>\n",
       "      <td>0</td>\n",
       "      <td>4553.0</td>\n",
       "      <td>0.0</td>\n",
       "      <td>4553.0</td>\n",
       "    </tr>\n",
       "    <tr>\n",
       "      <th>1</th>\n",
       "      <td>4555.0</td>\n",
       "      <td>4558.0</td>\n",
       "      <td>4553.0</td>\n",
       "      <td>4555.0</td>\n",
       "      <td>1.0</td>\n",
       "      <td>4555.0</td>\n",
       "      <td>-1.5</td>\n",
       "      <td>-1.0</td>\n",
       "      <td>-0.000329</td>\n",
       "      <td>0</td>\n",
       "      <td>4557.0</td>\n",
       "      <td>4557.0</td>\n",
       "      <td>0.0</td>\n",
       "    </tr>\n",
       "    <tr>\n",
       "      <th>2</th>\n",
       "      <td>4555.0</td>\n",
       "      <td>4557.0</td>\n",
       "      <td>4551.0</td>\n",
       "      <td>4553.0</td>\n",
       "      <td>-1.0</td>\n",
       "      <td>4553.0</td>\n",
       "      <td>-0.5</td>\n",
       "      <td>-1.5</td>\n",
       "      <td>-0.000110</td>\n",
       "      <td>0</td>\n",
       "      <td>4551.0</td>\n",
       "      <td>0.0</td>\n",
       "      <td>4551.0</td>\n",
       "    </tr>\n",
       "    <tr>\n",
       "      <th>3</th>\n",
       "      <td>4553.0</td>\n",
       "      <td>4556.0</td>\n",
       "      <td>4553.0</td>\n",
       "      <td>4555.0</td>\n",
       "      <td>1.0</td>\n",
       "      <td>4555.0</td>\n",
       "      <td>1.0</td>\n",
       "      <td>-0.5</td>\n",
       "      <td>0.000220</td>\n",
       "      <td>0</td>\n",
       "      <td>4557.0</td>\n",
       "      <td>4557.0</td>\n",
       "      <td>0.0</td>\n",
       "    </tr>\n",
       "    <tr>\n",
       "      <th>4</th>\n",
       "      <td>4554.0</td>\n",
       "      <td>4558.0</td>\n",
       "      <td>4553.0</td>\n",
       "      <td>4558.0</td>\n",
       "      <td>1.0</td>\n",
       "      <td>4558.0</td>\n",
       "      <td>-2.5</td>\n",
       "      <td>-3.0</td>\n",
       "      <td>-0.000549</td>\n",
       "      <td>1</td>\n",
       "      <td>4560.0</td>\n",
       "      <td>4560.0</td>\n",
       "      <td>0.0</td>\n",
       "    </tr>\n",
       "    <tr>\n",
       "      <th>...</th>\n",
       "      <td>...</td>\n",
       "      <td>...</td>\n",
       "      <td>...</td>\n",
       "      <td>...</td>\n",
       "      <td>...</td>\n",
       "      <td>...</td>\n",
       "      <td>...</td>\n",
       "      <td>...</td>\n",
       "      <td>...</td>\n",
       "      <td>...</td>\n",
       "      <td>...</td>\n",
       "      <td>...</td>\n",
       "      <td>...</td>\n",
       "    </tr>\n",
       "    <tr>\n",
       "      <th>1303709</th>\n",
       "      <td>11927.0</td>\n",
       "      <td>11934.0</td>\n",
       "      <td>11926.0</td>\n",
       "      <td>11933.0</td>\n",
       "      <td>1.0</td>\n",
       "      <td>11933.0</td>\n",
       "      <td>2.5</td>\n",
       "      <td>705394.5</td>\n",
       "      <td>0.000210</td>\n",
       "      <td>0</td>\n",
       "      <td>11935.0</td>\n",
       "      <td>11935.0</td>\n",
       "      <td>0.0</td>\n",
       "    </tr>\n",
       "    <tr>\n",
       "      <th>1303710</th>\n",
       "      <td>11933.0</td>\n",
       "      <td>11935.0</td>\n",
       "      <td>11930.0</td>\n",
       "      <td>11933.0</td>\n",
       "      <td>1.0</td>\n",
       "      <td>11933.0</td>\n",
       "      <td>4.0</td>\n",
       "      <td>705398.5</td>\n",
       "      <td>0.000335</td>\n",
       "      <td>0</td>\n",
       "      <td>11935.0</td>\n",
       "      <td>11935.0</td>\n",
       "      <td>0.0</td>\n",
       "    </tr>\n",
       "    <tr>\n",
       "      <th>1303711</th>\n",
       "      <td>11933.0</td>\n",
       "      <td>11941.0</td>\n",
       "      <td>11932.0</td>\n",
       "      <td>11939.0</td>\n",
       "      <td>1.0</td>\n",
       "      <td>11939.0</td>\n",
       "      <td>1.0</td>\n",
       "      <td>705399.5</td>\n",
       "      <td>0.000084</td>\n",
       "      <td>1</td>\n",
       "      <td>11941.0</td>\n",
       "      <td>11941.0</td>\n",
       "      <td>0.0</td>\n",
       "    </tr>\n",
       "    <tr>\n",
       "      <th>1303712</th>\n",
       "      <td>11940.0</td>\n",
       "      <td>11941.0</td>\n",
       "      <td>11934.0</td>\n",
       "      <td>11938.0</td>\n",
       "      <td>1.0</td>\n",
       "      <td>11938.0</td>\n",
       "      <td>0.0</td>\n",
       "      <td>705399.5</td>\n",
       "      <td>0.000000</td>\n",
       "      <td>1</td>\n",
       "      <td>11940.0</td>\n",
       "      <td>11940.0</td>\n",
       "      <td>0.0</td>\n",
       "    </tr>\n",
       "    <tr>\n",
       "      <th>1303713</th>\n",
       "      <td>11938.0</td>\n",
       "      <td>11939.0</td>\n",
       "      <td>11936.0</td>\n",
       "      <td>11937.0</td>\n",
       "      <td>1.0</td>\n",
       "      <td>11937.0</td>\n",
       "      <td>0.0</td>\n",
       "      <td>705399.5</td>\n",
       "      <td>0.000000</td>\n",
       "      <td>1</td>\n",
       "      <td>11939.0</td>\n",
       "      <td>11939.0</td>\n",
       "      <td>0.0</td>\n",
       "    </tr>\n",
       "  </tbody>\n",
       "</table>\n",
       "<p>1303714 rows × 13 columns</p>\n",
       "</div>"
      ],
      "text/plain": [
       "               O        H        L        C  Position  market_price  PnL  \\\n",
       "0         4558.0   4558.0   4554.0   4555.0      -1.0        4555.0  0.5   \n",
       "1         4555.0   4558.0   4553.0   4555.0       1.0        4555.0 -1.5   \n",
       "2         4555.0   4557.0   4551.0   4553.0      -1.0        4553.0 -0.5   \n",
       "3         4553.0   4556.0   4553.0   4555.0       1.0        4555.0  1.0   \n",
       "4         4554.0   4558.0   4553.0   4558.0       1.0        4558.0 -2.5   \n",
       "...          ...      ...      ...      ...       ...           ...  ...   \n",
       "1303709  11927.0  11934.0  11926.0  11933.0       1.0       11933.0  2.5   \n",
       "1303710  11933.0  11935.0  11930.0  11933.0       1.0       11933.0  4.0   \n",
       "1303711  11933.0  11941.0  11932.0  11939.0       1.0       11939.0  1.0   \n",
       "1303712  11940.0  11941.0  11934.0  11938.0       1.0       11938.0  0.0   \n",
       "1303713  11938.0  11939.0  11936.0  11937.0       1.0       11937.0  0.0   \n",
       "\n",
       "           CumPnL    Return  Open    order  order_buy  order_sell  \n",
       "0             0.5  0.000110     0   4553.0        0.0      4553.0  \n",
       "1            -1.0 -0.000329     0   4557.0     4557.0         0.0  \n",
       "2            -1.5 -0.000110     0   4551.0        0.0      4551.0  \n",
       "3            -0.5  0.000220     0   4557.0     4557.0         0.0  \n",
       "4            -3.0 -0.000549     1   4560.0     4560.0         0.0  \n",
       "...           ...       ...   ...      ...        ...         ...  \n",
       "1303709  705394.5  0.000210     0  11935.0    11935.0         0.0  \n",
       "1303710  705398.5  0.000335     0  11935.0    11935.0         0.0  \n",
       "1303711  705399.5  0.000084     1  11941.0    11941.0         0.0  \n",
       "1303712  705399.5  0.000000     1  11940.0    11940.0         0.0  \n",
       "1303713  705399.5  0.000000     1  11939.0    11939.0         0.0  \n",
       "\n",
       "[1303714 rows x 13 columns]"
      ]
     },
     "execution_count": 46,
     "metadata": {},
     "output_type": "execute_result"
    }
   ],
   "source": [
    "df"
   ]
  },
  {
   "cell_type": "code",
   "execution_count": 77,
   "metadata": {},
   "outputs": [],
   "source": [
    "indexes = ((df['Open']==0) & (df['Open'].shift(-1).ffill()==1))"
   ]
  },
  {
   "cell_type": "code",
   "execution_count": 79,
   "metadata": {
    "scrolled": true
   },
   "outputs": [],
   "source": [
    "df.loc[indexes,'market_price'] = df.loc[indexes, 'order']"
   ]
  },
  {
   "cell_type": "code",
   "execution_count": 1,
   "metadata": {},
   "outputs": [
    {
     "ename": "NameError",
     "evalue": "name 'df' is not defined",
     "output_type": "error",
     "traceback": [
      "\u001b[0;31m---------------------------------------------------------------------------\u001b[0m",
      "\u001b[0;31mNameError\u001b[0m                                 Traceback (most recent call last)",
      "\u001b[0;32m<ipython-input-1-80d5ebf72268>\u001b[0m in \u001b[0;36m<module>\u001b[0;34m\u001b[0m\n\u001b[0;32m----> 1\u001b[0;31m \u001b[0mdf\u001b[0m\u001b[0;34m[\u001b[0m\u001b[0;34m'C'\u001b[0m\u001b[0;34m]\u001b[0m\u001b[0;34m\u001b[0m\u001b[0;34m\u001b[0m\u001b[0m\n\u001b[0m",
      "\u001b[0;31mNameError\u001b[0m: name 'df' is not defined"
     ]
    }
   ],
   "source": [
    "df['C']"
   ]
  },
  {
   "cell_type": "code",
   "execution_count": 81,
   "metadata": {
    "scrolled": false
   },
   "outputs": [],
   "source": [
    "df['PnL'] = df['market_price'].diff().fillna(0) * df['Position'] * df['Open']"
   ]
  },
  {
   "cell_type": "code",
   "execution_count": 82,
   "metadata": {},
   "outputs": [],
   "source": [
    "df['CumPnL'] = df['PnL'].cumsum()"
   ]
  },
  {
   "cell_type": "code",
   "execution_count": 83,
   "metadata": {},
   "outputs": [
    {
     "data": {
      "text/html": [
       "<div>\n",
       "<style scoped>\n",
       "    .dataframe tbody tr th:only-of-type {\n",
       "        vertical-align: middle;\n",
       "    }\n",
       "\n",
       "    .dataframe tbody tr th {\n",
       "        vertical-align: top;\n",
       "    }\n",
       "\n",
       "    .dataframe thead th {\n",
       "        text-align: right;\n",
       "    }\n",
       "</style>\n",
       "<table border=\"1\" class=\"dataframe\">\n",
       "  <thead>\n",
       "    <tr style=\"text-align: right;\">\n",
       "      <th></th>\n",
       "      <th>O</th>\n",
       "      <th>H</th>\n",
       "      <th>L</th>\n",
       "      <th>C</th>\n",
       "      <th>Position</th>\n",
       "      <th>market_price</th>\n",
       "      <th>PnL</th>\n",
       "      <th>CumPnL</th>\n",
       "      <th>Return</th>\n",
       "      <th>Open</th>\n",
       "      <th>order</th>\n",
       "      <th>order_buy</th>\n",
       "      <th>order_sell</th>\n",
       "    </tr>\n",
       "  </thead>\n",
       "  <tbody>\n",
       "    <tr>\n",
       "      <th>0</th>\n",
       "      <td>4558.0</td>\n",
       "      <td>4558.0</td>\n",
       "      <td>4554.0</td>\n",
       "      <td>4555.0</td>\n",
       "      <td>-1.0</td>\n",
       "      <td>4555.0</td>\n",
       "      <td>-0.0</td>\n",
       "      <td>-0.0</td>\n",
       "      <td>0.000110</td>\n",
       "      <td>0</td>\n",
       "      <td>4553.0</td>\n",
       "      <td>0.0</td>\n",
       "      <td>4553.0</td>\n",
       "    </tr>\n",
       "    <tr>\n",
       "      <th>1</th>\n",
       "      <td>4555.0</td>\n",
       "      <td>4558.0</td>\n",
       "      <td>4553.0</td>\n",
       "      <td>4555.0</td>\n",
       "      <td>1.0</td>\n",
       "      <td>4555.0</td>\n",
       "      <td>0.0</td>\n",
       "      <td>0.0</td>\n",
       "      <td>-0.000329</td>\n",
       "      <td>0</td>\n",
       "      <td>4557.0</td>\n",
       "      <td>4557.0</td>\n",
       "      <td>0.0</td>\n",
       "    </tr>\n",
       "    <tr>\n",
       "      <th>2</th>\n",
       "      <td>4555.0</td>\n",
       "      <td>4557.0</td>\n",
       "      <td>4551.0</td>\n",
       "      <td>4553.0</td>\n",
       "      <td>-1.0</td>\n",
       "      <td>4553.0</td>\n",
       "      <td>0.0</td>\n",
       "      <td>0.0</td>\n",
       "      <td>-0.000110</td>\n",
       "      <td>0</td>\n",
       "      <td>4551.0</td>\n",
       "      <td>0.0</td>\n",
       "      <td>4551.0</td>\n",
       "    </tr>\n",
       "    <tr>\n",
       "      <th>3</th>\n",
       "      <td>4553.0</td>\n",
       "      <td>4556.0</td>\n",
       "      <td>4553.0</td>\n",
       "      <td>4555.0</td>\n",
       "      <td>1.0</td>\n",
       "      <td>4557.0</td>\n",
       "      <td>0.0</td>\n",
       "      <td>0.0</td>\n",
       "      <td>0.000220</td>\n",
       "      <td>0</td>\n",
       "      <td>4557.0</td>\n",
       "      <td>4557.0</td>\n",
       "      <td>0.0</td>\n",
       "    </tr>\n",
       "    <tr>\n",
       "      <th>4</th>\n",
       "      <td>4554.0</td>\n",
       "      <td>4558.0</td>\n",
       "      <td>4553.0</td>\n",
       "      <td>4558.0</td>\n",
       "      <td>1.0</td>\n",
       "      <td>4558.0</td>\n",
       "      <td>1.0</td>\n",
       "      <td>1.0</td>\n",
       "      <td>-0.000549</td>\n",
       "      <td>1</td>\n",
       "      <td>4560.0</td>\n",
       "      <td>4560.0</td>\n",
       "      <td>0.0</td>\n",
       "    </tr>\n",
       "    <tr>\n",
       "      <th>...</th>\n",
       "      <td>...</td>\n",
       "      <td>...</td>\n",
       "      <td>...</td>\n",
       "      <td>...</td>\n",
       "      <td>...</td>\n",
       "      <td>...</td>\n",
       "      <td>...</td>\n",
       "      <td>...</td>\n",
       "      <td>...</td>\n",
       "      <td>...</td>\n",
       "      <td>...</td>\n",
       "      <td>...</td>\n",
       "      <td>...</td>\n",
       "    </tr>\n",
       "    <tr>\n",
       "      <th>1303709</th>\n",
       "      <td>11927.0</td>\n",
       "      <td>11934.0</td>\n",
       "      <td>11926.0</td>\n",
       "      <td>11933.0</td>\n",
       "      <td>1.0</td>\n",
       "      <td>11933.0</td>\n",
       "      <td>0.0</td>\n",
       "      <td>583216.0</td>\n",
       "      <td>0.000210</td>\n",
       "      <td>0</td>\n",
       "      <td>11935.0</td>\n",
       "      <td>11935.0</td>\n",
       "      <td>0.0</td>\n",
       "    </tr>\n",
       "    <tr>\n",
       "      <th>1303710</th>\n",
       "      <td>11933.0</td>\n",
       "      <td>11935.0</td>\n",
       "      <td>11930.0</td>\n",
       "      <td>11933.0</td>\n",
       "      <td>1.0</td>\n",
       "      <td>11935.0</td>\n",
       "      <td>0.0</td>\n",
       "      <td>583216.0</td>\n",
       "      <td>0.000335</td>\n",
       "      <td>0</td>\n",
       "      <td>11935.0</td>\n",
       "      <td>11935.0</td>\n",
       "      <td>0.0</td>\n",
       "    </tr>\n",
       "    <tr>\n",
       "      <th>1303711</th>\n",
       "      <td>11933.0</td>\n",
       "      <td>11941.0</td>\n",
       "      <td>11932.0</td>\n",
       "      <td>11939.0</td>\n",
       "      <td>1.0</td>\n",
       "      <td>11939.0</td>\n",
       "      <td>4.0</td>\n",
       "      <td>583220.0</td>\n",
       "      <td>0.000084</td>\n",
       "      <td>1</td>\n",
       "      <td>11941.0</td>\n",
       "      <td>11941.0</td>\n",
       "      <td>0.0</td>\n",
       "    </tr>\n",
       "    <tr>\n",
       "      <th>1303712</th>\n",
       "      <td>11940.0</td>\n",
       "      <td>11941.0</td>\n",
       "      <td>11934.0</td>\n",
       "      <td>11938.0</td>\n",
       "      <td>1.0</td>\n",
       "      <td>11938.0</td>\n",
       "      <td>-1.0</td>\n",
       "      <td>583219.0</td>\n",
       "      <td>0.000000</td>\n",
       "      <td>1</td>\n",
       "      <td>11940.0</td>\n",
       "      <td>11940.0</td>\n",
       "      <td>0.0</td>\n",
       "    </tr>\n",
       "    <tr>\n",
       "      <th>1303713</th>\n",
       "      <td>11938.0</td>\n",
       "      <td>11939.0</td>\n",
       "      <td>11936.0</td>\n",
       "      <td>11937.0</td>\n",
       "      <td>1.0</td>\n",
       "      <td>11937.0</td>\n",
       "      <td>-1.0</td>\n",
       "      <td>583218.0</td>\n",
       "      <td>0.000000</td>\n",
       "      <td>1</td>\n",
       "      <td>11939.0</td>\n",
       "      <td>11939.0</td>\n",
       "      <td>0.0</td>\n",
       "    </tr>\n",
       "  </tbody>\n",
       "</table>\n",
       "<p>1303714 rows × 13 columns</p>\n",
       "</div>"
      ],
      "text/plain": [
       "               O        H        L        C  Position  market_price  PnL  \\\n",
       "0         4558.0   4558.0   4554.0   4555.0      -1.0        4555.0 -0.0   \n",
       "1         4555.0   4558.0   4553.0   4555.0       1.0        4555.0  0.0   \n",
       "2         4555.0   4557.0   4551.0   4553.0      -1.0        4553.0  0.0   \n",
       "3         4553.0   4556.0   4553.0   4555.0       1.0        4557.0  0.0   \n",
       "4         4554.0   4558.0   4553.0   4558.0       1.0        4558.0  1.0   \n",
       "...          ...      ...      ...      ...       ...           ...  ...   \n",
       "1303709  11927.0  11934.0  11926.0  11933.0       1.0       11933.0  0.0   \n",
       "1303710  11933.0  11935.0  11930.0  11933.0       1.0       11935.0  0.0   \n",
       "1303711  11933.0  11941.0  11932.0  11939.0       1.0       11939.0  4.0   \n",
       "1303712  11940.0  11941.0  11934.0  11938.0       1.0       11938.0 -1.0   \n",
       "1303713  11938.0  11939.0  11936.0  11937.0       1.0       11937.0 -1.0   \n",
       "\n",
       "           CumPnL    Return  Open    order  order_buy  order_sell  \n",
       "0            -0.0  0.000110     0   4553.0        0.0      4553.0  \n",
       "1             0.0 -0.000329     0   4557.0     4557.0         0.0  \n",
       "2             0.0 -0.000110     0   4551.0        0.0      4551.0  \n",
       "3             0.0  0.000220     0   4557.0     4557.0         0.0  \n",
       "4             1.0 -0.000549     1   4560.0     4560.0         0.0  \n",
       "...           ...       ...   ...      ...        ...         ...  \n",
       "1303709  583216.0  0.000210     0  11935.0    11935.0         0.0  \n",
       "1303710  583216.0  0.000335     0  11935.0    11935.0         0.0  \n",
       "1303711  583220.0  0.000084     1  11941.0    11941.0         0.0  \n",
       "1303712  583219.0  0.000000     1  11940.0    11940.0         0.0  \n",
       "1303713  583218.0  0.000000     1  11939.0    11939.0         0.0  \n",
       "\n",
       "[1303714 rows x 13 columns]"
      ]
     },
     "execution_count": 83,
     "metadata": {},
     "output_type": "execute_result"
    }
   ],
   "source": [
    "df"
   ]
  },
  {
   "cell_type": "code",
   "execution_count": 84,
   "metadata": {},
   "outputs": [],
   "source": [
    "indexes = ((df['Position']==1) & (df['Position'].shift(-1).ffill()==-1)).index\n",
    "df.loc[indexes, 'PnL'] = (df['market_price'].diff().fillna(0) * df['Position'].shift(1).fillna(0)).iloc[indexes]"
   ]
  },
  {
   "cell_type": "code",
   "execution_count": 85,
   "metadata": {},
   "outputs": [],
   "source": [
    "indexes = ((df['Position']==-1) & (df['Position'].shift(-1).ffill()==1)).index\n",
    "df.loc[indexes, 'PnL'] = (df['market_price'].diff().fillna(0) * df['Position'].shift(1).fillna(0)).iloc[indexes]"
   ]
  },
  {
   "cell_type": "code",
   "execution_count": 86,
   "metadata": {
    "scrolled": true
   },
   "outputs": [
    {
     "data": {
      "text/plain": [
       "-329284.0"
      ]
     },
     "execution_count": 86,
     "metadata": {},
     "output_type": "execute_result"
    }
   ],
   "source": [
    "df['PnL'].sum()"
   ]
  },
  {
   "cell_type": "code",
   "execution_count": null,
   "metadata": {},
   "outputs": [],
   "source": []
  }
 ],
 "metadata": {
  "kernelspec": {
   "display_name": "Python 3",
   "language": "python",
   "name": "python3"
  },
  "language_info": {
   "codemirror_mode": {
    "name": "ipython",
    "version": 3
   },
   "file_extension": ".py",
   "mimetype": "text/x-python",
   "name": "python",
   "nbconvert_exporter": "python",
   "pygments_lexer": "ipython3",
   "version": "3.6.10"
  }
 },
 "nbformat": 4,
 "nbformat_minor": 4
}
