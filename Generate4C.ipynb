{
 "cells": [
  {
   "cell_type": "code",
   "execution_count": 1,
   "metadata": {},
   "outputs": [],
   "source": [
    "import pandas as pd\n",
    "import numpy as np"
   ]
  },
  {
   "cell_type": "code",
   "execution_count": 2,
   "metadata": {},
   "outputs": [],
   "source": [
    "df = pd.read_csv('journal/strat_fitx.csv')"
   ]
  },
  {
   "cell_type": "code",
   "execution_count": 3,
   "metadata": {},
   "outputs": [],
   "source": [
    "fitx = pd.read_csv('data/fitx.txt')"
   ]
  },
  {
   "cell_type": "code",
   "execution_count": 4,
   "metadata": {},
   "outputs": [],
   "source": [
    "new_fitx = fitx[1015:].copy()\n",
    "new_fitx.index = range(new_fitx.shape[0])"
   ]
  },
  {
   "cell_type": "code",
   "execution_count": 5,
   "metadata": {
    "scrolled": false
   },
   "outputs": [],
   "source": [
    "consolidated = df.merge(new_fitx[['Date','Time']], left_index=True, right_index=True)"
   ]
  },
  {
   "cell_type": "code",
   "execution_count": 6,
   "metadata": {},
   "outputs": [],
   "source": [
    "consolidated = consolidated[['Date','Time','mid_price','Position','PnL']]"
   ]
  },
  {
   "cell_type": "code",
   "execution_count": 7,
   "metadata": {},
   "outputs": [],
   "source": [
    "consolidated.columns = ['Date', 'Time', 'price', 'side', 'profit']"
   ]
  },
  {
   "cell_type": "code",
   "execution_count": 8,
   "metadata": {},
   "outputs": [],
   "source": [
    "consolidated['contracts'] = np.zeros(consolidated.shape[0])"
   ]
  },
  {
   "cell_type": "code",
   "execution_count": 9,
   "metadata": {},
   "outputs": [
    {
     "name": "stderr",
     "output_type": "stream",
     "text": [
      "/home/zekechyo/anaconda3/envs/stockExchange/lib/python3.6/site-packages/pandas/core/indexing.py:670: SettingWithCopyWarning: \n",
      "A value is trying to be set on a copy of a slice from a DataFrame\n",
      "\n",
      "See the caveats in the documentation: https://pandas.pydata.org/pandas-docs/stable/user_guide/indexing.html#returning-a-view-versus-a-copy\n",
      "  self._setitem_with_indexer(indexer, value)\n"
     ]
    }
   ],
   "source": [
    "consolidated['contracts'].iloc[0] = 1"
   ]
  },
  {
   "cell_type": "code",
   "execution_count": 10,
   "metadata": {},
   "outputs": [],
   "source": [
    "consolidated['last_side']=consolidated['side'].shift(1)"
   ]
  },
  {
   "cell_type": "code",
   "execution_count": 11,
   "metadata": {},
   "outputs": [],
   "source": [
    "consolidated['last_side'].iloc[0]=0"
   ]
  },
  {
   "cell_type": "code",
   "execution_count": 12,
   "metadata": {},
   "outputs": [],
   "source": [
    "contracts = consolidated[['side','last_side']]"
   ]
  },
  {
   "cell_type": "code",
   "execution_count": 13,
   "metadata": {},
   "outputs": [
    {
     "name": "stderr",
     "output_type": "stream",
     "text": [
      "/home/zekechyo/anaconda3/envs/stockExchange/lib/python3.6/site-packages/ipykernel_launcher.py:1: SettingWithCopyWarning: \n",
      "A value is trying to be set on a copy of a slice from a DataFrame.\n",
      "Try using .loc[row_indexer,col_indexer] = value instead\n",
      "\n",
      "See the caveats in the documentation: https://pandas.pydata.org/pandas-docs/stable/user_guide/indexing.html#returning-a-view-versus-a-copy\n",
      "  \"\"\"Entry point for launching an IPython kernel.\n"
     ]
    }
   ],
   "source": [
    "contracts['contracts'] = contracts['side']!=contracts['last_side']"
   ]
  },
  {
   "cell_type": "code",
   "execution_count": 14,
   "metadata": {},
   "outputs": [
    {
     "name": "stderr",
     "output_type": "stream",
     "text": [
      "/home/zekechyo/anaconda3/envs/stockExchange/lib/python3.6/site-packages/ipykernel_launcher.py:1: SettingWithCopyWarning: \n",
      "A value is trying to be set on a copy of a slice from a DataFrame.\n",
      "Try using .loc[row_indexer,col_indexer] = value instead\n",
      "\n",
      "See the caveats in the documentation: https://pandas.pydata.org/pandas-docs/stable/user_guide/indexing.html#returning-a-view-versus-a-copy\n",
      "  \"\"\"Entry point for launching an IPython kernel.\n"
     ]
    }
   ],
   "source": [
    "contracts['contracts'] = contracts['contracts'].astype(int)"
   ]
  },
  {
   "cell_type": "code",
   "execution_count": 15,
   "metadata": {},
   "outputs": [
    {
     "name": "stderr",
     "output_type": "stream",
     "text": [
      "/home/zekechyo/anaconda3/envs/stockExchange/lib/python3.6/site-packages/ipykernel_launcher.py:1: SettingWithCopyWarning: \n",
      "A value is trying to be set on a copy of a slice from a DataFrame.\n",
      "Try using .loc[row_indexer,col_indexer] = value instead\n",
      "\n",
      "See the caveats in the documentation: https://pandas.pydata.org/pandas-docs/stable/user_guide/indexing.html#returning-a-view-versus-a-copy\n",
      "  \"\"\"Entry point for launching an IPython kernel.\n"
     ]
    }
   ],
   "source": [
    "contracts['contracts'] = contracts['contracts']*2"
   ]
  },
  {
   "cell_type": "code",
   "execution_count": 16,
   "metadata": {
    "scrolled": true
   },
   "outputs": [],
   "source": [
    "consolidated['contracts'].iloc[1:] = contracts['contracts'][1:]"
   ]
  },
  {
   "cell_type": "code",
   "execution_count": 17,
   "metadata": {},
   "outputs": [],
   "source": [
    "consolidated.drop(columns=['last_side'], inplace=True)"
   ]
  },
  {
   "cell_type": "code",
   "execution_count": 18,
   "metadata": {},
   "outputs": [],
   "source": [
    "consolidated['commodity'] = ['TXF']*consolidated.shape[0]"
   ]
  },
  {
   "cell_type": "code",
   "execution_count": 19,
   "metadata": {},
   "outputs": [],
   "source": [
    "consolidated['strategy'] = ['AI_Sim']*consolidated.shape[0]"
   ]
  },
  {
   "cell_type": "code",
   "execution_count": 20,
   "metadata": {},
   "outputs": [],
   "source": [
    "consolidated['action'] = np.zeros(consolidated.shape[0])"
   ]
  },
  {
   "cell_type": "code",
   "execution_count": 21,
   "metadata": {},
   "outputs": [],
   "source": [
    "consolidated['action'] = consolidated['side']*consolidated['contracts']"
   ]
  },
  {
   "cell_type": "code",
   "execution_count": 22,
   "metadata": {},
   "outputs": [],
   "source": [
    "trans_dict = {'-1.0':'Entry_Short', '1.0':'Entry_Long', '-2.0':'Entry_Short', '2.0':'Entry_Long', '0.0':'Hold', '-0.0':'Hold'}"
   ]
  },
  {
   "cell_type": "code",
   "execution_count": 23,
   "metadata": {
    "scrolled": true
   },
   "outputs": [],
   "source": [
    "consolidated['action']=consolidated['action'].apply(lambda x: trans_dict[str(x)])"
   ]
  },
  {
   "cell_type": "code",
   "execution_count": 24,
   "metadata": {},
   "outputs": [],
   "source": [
    "consolidated[consolidated['action']=='Hold']=None"
   ]
  },
  {
   "cell_type": "code",
   "execution_count": 25,
   "metadata": {},
   "outputs": [],
   "source": [
    "consolidated.dropna(inplace=True)"
   ]
  },
  {
   "cell_type": "code",
   "execution_count": 26,
   "metadata": {},
   "outputs": [],
   "source": [
    "consolidated.index = range(consolidated.shape[0])"
   ]
  },
  {
   "cell_type": "code",
   "execution_count": 27,
   "metadata": {},
   "outputs": [],
   "source": [
    "consolidated['last_action'] = consolidated['action'].shift(1)"
   ]
  },
  {
   "cell_type": "code",
   "execution_count": 28,
   "metadata": {},
   "outputs": [],
   "source": [
    "consolidated.Time = pd.to_datetime(consolidated.Time, format='%H:%M:%S')"
   ]
  },
  {
   "cell_type": "code",
   "execution_count": 29,
   "metadata": {},
   "outputs": [],
   "source": [
    "consolidated2 = consolidated.copy()"
   ]
  },
  {
   "cell_type": "code",
   "execution_count": 30,
   "metadata": {},
   "outputs": [],
   "source": [
    "consolidated2.index = [ 2*i for i in range(consolidated2.shape[0])]"
   ]
  },
  {
   "cell_type": "code",
   "execution_count": 31,
   "metadata": {},
   "outputs": [],
   "source": [
    "consolidated3 = consolidated2.copy()"
   ]
  },
  {
   "cell_type": "code",
   "execution_count": 32,
   "metadata": {
    "scrolled": true
   },
   "outputs": [],
   "source": [
    "consolidated3.index=[2*i+1 for i in range(consolidated3.shape[0])]"
   ]
  },
  {
   "cell_type": "code",
   "execution_count": 33,
   "metadata": {
    "scrolled": true
   },
   "outputs": [
    {
     "name": "stderr",
     "output_type": "stream",
     "text": [
      "/home/zekechyo/anaconda3/envs/stockExchange/lib/python3.6/site-packages/pandas/core/generic.py:5303: SettingWithCopyWarning: \n",
      "A value is trying to be set on a copy of a slice from a DataFrame.\n",
      "Try using .loc[row_indexer,col_indexer] = value instead\n",
      "\n",
      "See the caveats in the documentation: https://pandas.pydata.org/pandas-docs/stable/user_guide/indexing.html#returning-a-view-versus-a-copy\n",
      "  self[name] = value\n"
     ]
    }
   ],
   "source": [
    "consolidated3[:-1].price = np.asarray(consolidated2[1:].price)"
   ]
  },
  {
   "cell_type": "code",
   "execution_count": 34,
   "metadata": {
    "scrolled": false
   },
   "outputs": [],
   "source": [
    "trans_dict = {'Entry_Short':'Exit_Short', 'Entry_Long':'Exit_Long'}\n",
    "consolidated3['action'] = consolidated3.action.apply(lambda x: trans_dict[x])"
   ]
  },
  {
   "cell_type": "code",
   "execution_count": 35,
   "metadata": {},
   "outputs": [],
   "source": [
    "import datetime"
   ]
  },
  {
   "cell_type": "code",
   "execution_count": 36,
   "metadata": {},
   "outputs": [
    {
     "data": {
      "text/plain": [
       "datetime.timedelta(0, 15)"
      ]
     },
     "execution_count": 36,
     "metadata": {},
     "output_type": "execute_result"
    }
   ],
   "source": [
    "datetime.timedelta(seconds=15)"
   ]
  },
  {
   "cell_type": "code",
   "execution_count": 37,
   "metadata": {},
   "outputs": [],
   "source": [
    "consolidated3.Time += datetime.timedelta(seconds=15)"
   ]
  },
  {
   "cell_type": "code",
   "execution_count": 38,
   "metadata": {},
   "outputs": [],
   "source": [
    "consolidated3.side = -1*consolidated3.side"
   ]
  },
  {
   "cell_type": "code",
   "execution_count": 39,
   "metadata": {},
   "outputs": [],
   "source": [
    "consolidated2.drop(columns=['last_action'], inplace=True)"
   ]
  },
  {
   "cell_type": "code",
   "execution_count": 40,
   "metadata": {
    "scrolled": true
   },
   "outputs": [],
   "source": [
    "consolidated3.drop(columns=['last_action'], inplace=True)"
   ]
  },
  {
   "cell_type": "code",
   "execution_count": 41,
   "metadata": {},
   "outputs": [
    {
     "data": {
      "text/html": [
       "<div>\n",
       "<style scoped>\n",
       "    .dataframe tbody tr th:only-of-type {\n",
       "        vertical-align: middle;\n",
       "    }\n",
       "\n",
       "    .dataframe tbody tr th {\n",
       "        vertical-align: top;\n",
       "    }\n",
       "\n",
       "    .dataframe thead th {\n",
       "        text-align: right;\n",
       "    }\n",
       "</style>\n",
       "<table border=\"1\" class=\"dataframe\">\n",
       "  <thead>\n",
       "    <tr style=\"text-align: right;\">\n",
       "      <th></th>\n",
       "      <th>Date</th>\n",
       "      <th>Time</th>\n",
       "      <th>price</th>\n",
       "      <th>side</th>\n",
       "      <th>profit</th>\n",
       "      <th>contracts</th>\n",
       "      <th>commodity</th>\n",
       "      <th>strategy</th>\n",
       "      <th>action</th>\n",
       "    </tr>\n",
       "  </thead>\n",
       "  <tbody>\n",
       "    <tr>\n",
       "      <th>0</th>\n",
       "      <td>2009/1/8</td>\n",
       "      <td>1900-01-01 10:41:00</td>\n",
       "      <td>4556.0</td>\n",
       "      <td>-1.0</td>\n",
       "      <td>0.5</td>\n",
       "      <td>1.0</td>\n",
       "      <td>TXF</td>\n",
       "      <td>AI_Sim</td>\n",
       "      <td>Entry_Short</td>\n",
       "    </tr>\n",
       "    <tr>\n",
       "      <th>2</th>\n",
       "      <td>2009/1/8</td>\n",
       "      <td>1900-01-01 10:42:00</td>\n",
       "      <td>4555.5</td>\n",
       "      <td>1.0</td>\n",
       "      <td>-1.5</td>\n",
       "      <td>2.0</td>\n",
       "      <td>TXF</td>\n",
       "      <td>AI_Sim</td>\n",
       "      <td>Entry_Long</td>\n",
       "    </tr>\n",
       "    <tr>\n",
       "      <th>4</th>\n",
       "      <td>2009/1/8</td>\n",
       "      <td>1900-01-01 10:43:00</td>\n",
       "      <td>4554.0</td>\n",
       "      <td>-1.0</td>\n",
       "      <td>-0.5</td>\n",
       "      <td>2.0</td>\n",
       "      <td>TXF</td>\n",
       "      <td>AI_Sim</td>\n",
       "      <td>Entry_Short</td>\n",
       "    </tr>\n",
       "    <tr>\n",
       "      <th>6</th>\n",
       "      <td>2009/1/8</td>\n",
       "      <td>1900-01-01 10:44:00</td>\n",
       "      <td>4554.5</td>\n",
       "      <td>1.0</td>\n",
       "      <td>1.0</td>\n",
       "      <td>2.0</td>\n",
       "      <td>TXF</td>\n",
       "      <td>AI_Sim</td>\n",
       "      <td>Entry_Long</td>\n",
       "    </tr>\n",
       "    <tr>\n",
       "      <th>8</th>\n",
       "      <td>2009/1/8</td>\n",
       "      <td>1900-01-01 10:46:00</td>\n",
       "      <td>4553.0</td>\n",
       "      <td>-1.0</td>\n",
       "      <td>-0.0</td>\n",
       "      <td>2.0</td>\n",
       "      <td>TXF</td>\n",
       "      <td>AI_Sim</td>\n",
       "      <td>Entry_Short</td>\n",
       "    </tr>\n",
       "    <tr>\n",
       "      <th>...</th>\n",
       "      <td>...</td>\n",
       "      <td>...</td>\n",
       "      <td>...</td>\n",
       "      <td>...</td>\n",
       "      <td>...</td>\n",
       "      <td>...</td>\n",
       "      <td>...</td>\n",
       "      <td>...</td>\n",
       "      <td>...</td>\n",
       "    </tr>\n",
       "    <tr>\n",
       "      <th>631414</th>\n",
       "      <td>2019/12/13</td>\n",
       "      <td>1900-01-01 09:46:00</td>\n",
       "      <td>11948.5</td>\n",
       "      <td>1.0</td>\n",
       "      <td>5.5</td>\n",
       "      <td>2.0</td>\n",
       "      <td>TXF</td>\n",
       "      <td>AI_Sim</td>\n",
       "      <td>Entry_Long</td>\n",
       "    </tr>\n",
       "    <tr>\n",
       "      <th>631416</th>\n",
       "      <td>2019/12/13</td>\n",
       "      <td>1900-01-01 09:52:00</td>\n",
       "      <td>11966.5</td>\n",
       "      <td>-1.0</td>\n",
       "      <td>7.0</td>\n",
       "      <td>2.0</td>\n",
       "      <td>TXF</td>\n",
       "      <td>AI_Sim</td>\n",
       "      <td>Entry_Short</td>\n",
       "    </tr>\n",
       "    <tr>\n",
       "      <th>631418</th>\n",
       "      <td>2019/12/13</td>\n",
       "      <td>1900-01-01 10:00:00</td>\n",
       "      <td>11949.5</td>\n",
       "      <td>1.0</td>\n",
       "      <td>3.5</td>\n",
       "      <td>2.0</td>\n",
       "      <td>TXF</td>\n",
       "      <td>AI_Sim</td>\n",
       "      <td>Entry_Long</td>\n",
       "    </tr>\n",
       "    <tr>\n",
       "      <th>631420</th>\n",
       "      <td>2019/12/13</td>\n",
       "      <td>1900-01-01 10:03:00</td>\n",
       "      <td>11951.5</td>\n",
       "      <td>-1.0</td>\n",
       "      <td>5.0</td>\n",
       "      <td>2.0</td>\n",
       "      <td>TXF</td>\n",
       "      <td>AI_Sim</td>\n",
       "      <td>Entry_Short</td>\n",
       "    </tr>\n",
       "    <tr>\n",
       "      <th>631422</th>\n",
       "      <td>2019/12/13</td>\n",
       "      <td>1900-01-01 10:16:00</td>\n",
       "      <td>11930.0</td>\n",
       "      <td>1.0</td>\n",
       "      <td>2.5</td>\n",
       "      <td>2.0</td>\n",
       "      <td>TXF</td>\n",
       "      <td>AI_Sim</td>\n",
       "      <td>Entry_Long</td>\n",
       "    </tr>\n",
       "  </tbody>\n",
       "</table>\n",
       "<p>315712 rows × 9 columns</p>\n",
       "</div>"
      ],
      "text/plain": [
       "              Date                Time    price  side  profit  contracts  \\\n",
       "0         2009/1/8 1900-01-01 10:41:00   4556.0  -1.0     0.5        1.0   \n",
       "2         2009/1/8 1900-01-01 10:42:00   4555.5   1.0    -1.5        2.0   \n",
       "4         2009/1/8 1900-01-01 10:43:00   4554.0  -1.0    -0.5        2.0   \n",
       "6         2009/1/8 1900-01-01 10:44:00   4554.5   1.0     1.0        2.0   \n",
       "8         2009/1/8 1900-01-01 10:46:00   4553.0  -1.0    -0.0        2.0   \n",
       "...            ...                 ...      ...   ...     ...        ...   \n",
       "631414  2019/12/13 1900-01-01 09:46:00  11948.5   1.0     5.5        2.0   \n",
       "631416  2019/12/13 1900-01-01 09:52:00  11966.5  -1.0     7.0        2.0   \n",
       "631418  2019/12/13 1900-01-01 10:00:00  11949.5   1.0     3.5        2.0   \n",
       "631420  2019/12/13 1900-01-01 10:03:00  11951.5  -1.0     5.0        2.0   \n",
       "631422  2019/12/13 1900-01-01 10:16:00  11930.0   1.0     2.5        2.0   \n",
       "\n",
       "       commodity strategy       action  \n",
       "0            TXF   AI_Sim  Entry_Short  \n",
       "2            TXF   AI_Sim   Entry_Long  \n",
       "4            TXF   AI_Sim  Entry_Short  \n",
       "6            TXF   AI_Sim   Entry_Long  \n",
       "8            TXF   AI_Sim  Entry_Short  \n",
       "...          ...      ...          ...  \n",
       "631414       TXF   AI_Sim   Entry_Long  \n",
       "631416       TXF   AI_Sim  Entry_Short  \n",
       "631418       TXF   AI_Sim   Entry_Long  \n",
       "631420       TXF   AI_Sim  Entry_Short  \n",
       "631422       TXF   AI_Sim   Entry_Long  \n",
       "\n",
       "[315712 rows x 9 columns]"
      ]
     },
     "execution_count": 41,
     "metadata": {},
     "output_type": "execute_result"
    }
   ],
   "source": [
    "consolidated2"
   ]
  },
  {
   "cell_type": "code",
   "execution_count": 42,
   "metadata": {
    "scrolled": true
   },
   "outputs": [],
   "source": [
    "oldIndex_2 = np.asarray(consolidated2.index)"
   ]
  },
  {
   "cell_type": "code",
   "execution_count": 43,
   "metadata": {},
   "outputs": [],
   "source": [
    "oldIndex_3 = np.asarray(consolidated3.index)"
   ]
  },
  {
   "cell_type": "code",
   "execution_count": 44,
   "metadata": {},
   "outputs": [
    {
     "data": {
      "text/plain": [
       "array([     0,      2,      4, ..., 631418, 631420, 631422])"
      ]
     },
     "execution_count": 44,
     "metadata": {},
     "output_type": "execute_result"
    }
   ],
   "source": [
    "oldIndex_2"
   ]
  },
  {
   "cell_type": "code",
   "execution_count": 45,
   "metadata": {},
   "outputs": [
    {
     "data": {
      "text/plain": [
       "array([     1,      3,      5, ..., 631419, 631421, 631423])"
      ]
     },
     "execution_count": 45,
     "metadata": {},
     "output_type": "execute_result"
    }
   ],
   "source": [
    "oldIndex_3"
   ]
  },
  {
   "cell_type": "code",
   "execution_count": 46,
   "metadata": {},
   "outputs": [],
   "source": [
    "consolidated2.index = range(consolidated2.shape[0])\n",
    "consolidated3.index = range(consolidated3.shape[0])"
   ]
  },
  {
   "cell_type": "code",
   "execution_count": 47,
   "metadata": {},
   "outputs": [],
   "source": [
    "save_2 = pd.DataFrame(consolidated2.iloc[0].to_dict(), index=[0], columns=consolidated2.columns)\n",
    "save_3 = pd.DataFrame(consolidated3.iloc[-1].to_dict(), index=[consolidated3.shape[0]-1], columns=consolidated3.columns)\n",
    "consolidated2.drop([0], inplace=True)\n",
    "consolidated3.drop([consolidated.shape[0]-1], inplace=True)"
   ]
  },
  {
   "cell_type": "code",
   "execution_count": 48,
   "metadata": {
    "scrolled": true
   },
   "outputs": [],
   "source": [
    "consolidated2.index = range(consolidated2.shape[0])\n",
    "consolidated3.index = range(consolidated3.shape[0])"
   ]
  },
  {
   "cell_type": "code",
   "execution_count": 49,
   "metadata": {},
   "outputs": [],
   "source": [
    "consolidated3['price'] = consolidated2['price']"
   ]
  },
  {
   "cell_type": "code",
   "execution_count": 50,
   "metadata": {
    "scrolled": true
   },
   "outputs": [],
   "source": [
    "consolidated2 = pd.concat([save_2, consolidated2], axis=0, ignore_index=True)\n",
    "consolidated3 = pd.concat([consolidated3, save_3, ], axis=0, ignore_index=True)"
   ]
  },
  {
   "cell_type": "code",
   "execution_count": 51,
   "metadata": {
    "scrolled": true
   },
   "outputs": [
    {
     "data": {
      "text/html": [
       "<div>\n",
       "<style scoped>\n",
       "    .dataframe tbody tr th:only-of-type {\n",
       "        vertical-align: middle;\n",
       "    }\n",
       "\n",
       "    .dataframe tbody tr th {\n",
       "        vertical-align: top;\n",
       "    }\n",
       "\n",
       "    .dataframe thead th {\n",
       "        text-align: right;\n",
       "    }\n",
       "</style>\n",
       "<table border=\"1\" class=\"dataframe\">\n",
       "  <thead>\n",
       "    <tr style=\"text-align: right;\">\n",
       "      <th></th>\n",
       "      <th>Date</th>\n",
       "      <th>Time</th>\n",
       "      <th>price</th>\n",
       "      <th>side</th>\n",
       "      <th>profit</th>\n",
       "      <th>contracts</th>\n",
       "      <th>commodity</th>\n",
       "      <th>strategy</th>\n",
       "      <th>action</th>\n",
       "    </tr>\n",
       "  </thead>\n",
       "  <tbody>\n",
       "    <tr>\n",
       "      <th>315711</th>\n",
       "      <td>2019/12/13</td>\n",
       "      <td>1900-01-01 10:16:15</td>\n",
       "      <td>11930.0</td>\n",
       "      <td>-1.0</td>\n",
       "      <td>2.5</td>\n",
       "      <td>2.0</td>\n",
       "      <td>TXF</td>\n",
       "      <td>AI_Sim</td>\n",
       "      <td>Exit_Long</td>\n",
       "    </tr>\n",
       "  </tbody>\n",
       "</table>\n",
       "</div>"
      ],
      "text/plain": [
       "              Date                Time    price  side  profit  contracts  \\\n",
       "315711  2019/12/13 1900-01-01 10:16:15  11930.0  -1.0     2.5        2.0   \n",
       "\n",
       "       commodity strategy     action  \n",
       "315711       TXF   AI_Sim  Exit_Long  "
      ]
     },
     "execution_count": 51,
     "metadata": {},
     "output_type": "execute_result"
    }
   ],
   "source": [
    "save_3"
   ]
  },
  {
   "cell_type": "code",
   "execution_count": 52,
   "metadata": {},
   "outputs": [
    {
     "data": {
      "text/html": [
       "<div>\n",
       "<style scoped>\n",
       "    .dataframe tbody tr th:only-of-type {\n",
       "        vertical-align: middle;\n",
       "    }\n",
       "\n",
       "    .dataframe tbody tr th {\n",
       "        vertical-align: top;\n",
       "    }\n",
       "\n",
       "    .dataframe thead th {\n",
       "        text-align: right;\n",
       "    }\n",
       "</style>\n",
       "<table border=\"1\" class=\"dataframe\">\n",
       "  <thead>\n",
       "    <tr style=\"text-align: right;\">\n",
       "      <th></th>\n",
       "      <th>Date</th>\n",
       "      <th>Time</th>\n",
       "      <th>price</th>\n",
       "      <th>side</th>\n",
       "      <th>profit</th>\n",
       "      <th>contracts</th>\n",
       "      <th>commodity</th>\n",
       "      <th>strategy</th>\n",
       "      <th>action</th>\n",
       "    </tr>\n",
       "  </thead>\n",
       "  <tbody>\n",
       "    <tr>\n",
       "      <th>0</th>\n",
       "      <td>2009/1/8</td>\n",
       "      <td>1900-01-01 10:41:00</td>\n",
       "      <td>4556.0</td>\n",
       "      <td>-1.0</td>\n",
       "      <td>0.5</td>\n",
       "      <td>1.0</td>\n",
       "      <td>TXF</td>\n",
       "      <td>AI_Sim</td>\n",
       "      <td>Entry_Short</td>\n",
       "    </tr>\n",
       "  </tbody>\n",
       "</table>\n",
       "</div>"
      ],
      "text/plain": [
       "       Date                Time   price  side  profit  contracts commodity  \\\n",
       "0  2009/1/8 1900-01-01 10:41:00  4556.0  -1.0     0.5        1.0       TXF   \n",
       "\n",
       "  strategy       action  \n",
       "0   AI_Sim  Entry_Short  "
      ]
     },
     "execution_count": 52,
     "metadata": {},
     "output_type": "execute_result"
    }
   ],
   "source": [
    "save_2"
   ]
  },
  {
   "cell_type": "code",
   "execution_count": 53,
   "metadata": {
    "scrolled": false
   },
   "outputs": [],
   "source": [
    "assert consolidated2.shape[0] == len(oldIndex_2)\n",
    "assert consolidated3.shape[0] == len(oldIndex_3)"
   ]
  },
  {
   "cell_type": "code",
   "execution_count": 54,
   "metadata": {},
   "outputs": [],
   "source": [
    "consolidated2.index=oldIndex_2\n",
    "consolidated3.index=oldIndex_3"
   ]
  },
  {
   "cell_type": "code",
   "execution_count": 55,
   "metadata": {},
   "outputs": [
    {
     "data": {
      "text/html": [
       "<div>\n",
       "<style scoped>\n",
       "    .dataframe tbody tr th:only-of-type {\n",
       "        vertical-align: middle;\n",
       "    }\n",
       "\n",
       "    .dataframe tbody tr th {\n",
       "        vertical-align: top;\n",
       "    }\n",
       "\n",
       "    .dataframe thead th {\n",
       "        text-align: right;\n",
       "    }\n",
       "</style>\n",
       "<table border=\"1\" class=\"dataframe\">\n",
       "  <thead>\n",
       "    <tr style=\"text-align: right;\">\n",
       "      <th></th>\n",
       "      <th>Date</th>\n",
       "      <th>Time</th>\n",
       "      <th>price</th>\n",
       "      <th>side</th>\n",
       "      <th>profit</th>\n",
       "      <th>contracts</th>\n",
       "      <th>commodity</th>\n",
       "      <th>strategy</th>\n",
       "      <th>action</th>\n",
       "    </tr>\n",
       "  </thead>\n",
       "  <tbody>\n",
       "    <tr>\n",
       "      <th>0</th>\n",
       "      <td>2009/1/8</td>\n",
       "      <td>1900-01-01 10:41:00</td>\n",
       "      <td>4556.0</td>\n",
       "      <td>-1.0</td>\n",
       "      <td>0.5</td>\n",
       "      <td>1.0</td>\n",
       "      <td>TXF</td>\n",
       "      <td>AI_Sim</td>\n",
       "      <td>Entry_Short</td>\n",
       "    </tr>\n",
       "    <tr>\n",
       "      <th>2</th>\n",
       "      <td>2009/1/8</td>\n",
       "      <td>1900-01-01 10:42:00</td>\n",
       "      <td>4555.5</td>\n",
       "      <td>1.0</td>\n",
       "      <td>-1.5</td>\n",
       "      <td>2.0</td>\n",
       "      <td>TXF</td>\n",
       "      <td>AI_Sim</td>\n",
       "      <td>Entry_Long</td>\n",
       "    </tr>\n",
       "    <tr>\n",
       "      <th>4</th>\n",
       "      <td>2009/1/8</td>\n",
       "      <td>1900-01-01 10:43:00</td>\n",
       "      <td>4554.0</td>\n",
       "      <td>-1.0</td>\n",
       "      <td>-0.5</td>\n",
       "      <td>2.0</td>\n",
       "      <td>TXF</td>\n",
       "      <td>AI_Sim</td>\n",
       "      <td>Entry_Short</td>\n",
       "    </tr>\n",
       "    <tr>\n",
       "      <th>6</th>\n",
       "      <td>2009/1/8</td>\n",
       "      <td>1900-01-01 10:44:00</td>\n",
       "      <td>4554.5</td>\n",
       "      <td>1.0</td>\n",
       "      <td>1.0</td>\n",
       "      <td>2.0</td>\n",
       "      <td>TXF</td>\n",
       "      <td>AI_Sim</td>\n",
       "      <td>Entry_Long</td>\n",
       "    </tr>\n",
       "    <tr>\n",
       "      <th>8</th>\n",
       "      <td>2009/1/8</td>\n",
       "      <td>1900-01-01 10:46:00</td>\n",
       "      <td>4553.0</td>\n",
       "      <td>-1.0</td>\n",
       "      <td>-0.0</td>\n",
       "      <td>2.0</td>\n",
       "      <td>TXF</td>\n",
       "      <td>AI_Sim</td>\n",
       "      <td>Entry_Short</td>\n",
       "    </tr>\n",
       "    <tr>\n",
       "      <th>...</th>\n",
       "      <td>...</td>\n",
       "      <td>...</td>\n",
       "      <td>...</td>\n",
       "      <td>...</td>\n",
       "      <td>...</td>\n",
       "      <td>...</td>\n",
       "      <td>...</td>\n",
       "      <td>...</td>\n",
       "      <td>...</td>\n",
       "    </tr>\n",
       "    <tr>\n",
       "      <th>631414</th>\n",
       "      <td>2019/12/13</td>\n",
       "      <td>1900-01-01 09:46:00</td>\n",
       "      <td>11948.5</td>\n",
       "      <td>1.0</td>\n",
       "      <td>5.5</td>\n",
       "      <td>2.0</td>\n",
       "      <td>TXF</td>\n",
       "      <td>AI_Sim</td>\n",
       "      <td>Entry_Long</td>\n",
       "    </tr>\n",
       "    <tr>\n",
       "      <th>631416</th>\n",
       "      <td>2019/12/13</td>\n",
       "      <td>1900-01-01 09:52:00</td>\n",
       "      <td>11966.5</td>\n",
       "      <td>-1.0</td>\n",
       "      <td>7.0</td>\n",
       "      <td>2.0</td>\n",
       "      <td>TXF</td>\n",
       "      <td>AI_Sim</td>\n",
       "      <td>Entry_Short</td>\n",
       "    </tr>\n",
       "    <tr>\n",
       "      <th>631418</th>\n",
       "      <td>2019/12/13</td>\n",
       "      <td>1900-01-01 10:00:00</td>\n",
       "      <td>11949.5</td>\n",
       "      <td>1.0</td>\n",
       "      <td>3.5</td>\n",
       "      <td>2.0</td>\n",
       "      <td>TXF</td>\n",
       "      <td>AI_Sim</td>\n",
       "      <td>Entry_Long</td>\n",
       "    </tr>\n",
       "    <tr>\n",
       "      <th>631420</th>\n",
       "      <td>2019/12/13</td>\n",
       "      <td>1900-01-01 10:03:00</td>\n",
       "      <td>11951.5</td>\n",
       "      <td>-1.0</td>\n",
       "      <td>5.0</td>\n",
       "      <td>2.0</td>\n",
       "      <td>TXF</td>\n",
       "      <td>AI_Sim</td>\n",
       "      <td>Entry_Short</td>\n",
       "    </tr>\n",
       "    <tr>\n",
       "      <th>631422</th>\n",
       "      <td>2019/12/13</td>\n",
       "      <td>1900-01-01 10:16:00</td>\n",
       "      <td>11930.0</td>\n",
       "      <td>1.0</td>\n",
       "      <td>2.5</td>\n",
       "      <td>2.0</td>\n",
       "      <td>TXF</td>\n",
       "      <td>AI_Sim</td>\n",
       "      <td>Entry_Long</td>\n",
       "    </tr>\n",
       "  </tbody>\n",
       "</table>\n",
       "<p>315712 rows × 9 columns</p>\n",
       "</div>"
      ],
      "text/plain": [
       "              Date                Time    price  side  profit  contracts  \\\n",
       "0         2009/1/8 1900-01-01 10:41:00   4556.0  -1.0     0.5        1.0   \n",
       "2         2009/1/8 1900-01-01 10:42:00   4555.5   1.0    -1.5        2.0   \n",
       "4         2009/1/8 1900-01-01 10:43:00   4554.0  -1.0    -0.5        2.0   \n",
       "6         2009/1/8 1900-01-01 10:44:00   4554.5   1.0     1.0        2.0   \n",
       "8         2009/1/8 1900-01-01 10:46:00   4553.0  -1.0    -0.0        2.0   \n",
       "...            ...                 ...      ...   ...     ...        ...   \n",
       "631414  2019/12/13 1900-01-01 09:46:00  11948.5   1.0     5.5        2.0   \n",
       "631416  2019/12/13 1900-01-01 09:52:00  11966.5  -1.0     7.0        2.0   \n",
       "631418  2019/12/13 1900-01-01 10:00:00  11949.5   1.0     3.5        2.0   \n",
       "631420  2019/12/13 1900-01-01 10:03:00  11951.5  -1.0     5.0        2.0   \n",
       "631422  2019/12/13 1900-01-01 10:16:00  11930.0   1.0     2.5        2.0   \n",
       "\n",
       "       commodity strategy       action  \n",
       "0            TXF   AI_Sim  Entry_Short  \n",
       "2            TXF   AI_Sim   Entry_Long  \n",
       "4            TXF   AI_Sim  Entry_Short  \n",
       "6            TXF   AI_Sim   Entry_Long  \n",
       "8            TXF   AI_Sim  Entry_Short  \n",
       "...          ...      ...          ...  \n",
       "631414       TXF   AI_Sim   Entry_Long  \n",
       "631416       TXF   AI_Sim  Entry_Short  \n",
       "631418       TXF   AI_Sim   Entry_Long  \n",
       "631420       TXF   AI_Sim  Entry_Short  \n",
       "631422       TXF   AI_Sim   Entry_Long  \n",
       "\n",
       "[315712 rows x 9 columns]"
      ]
     },
     "execution_count": 55,
     "metadata": {},
     "output_type": "execute_result"
    }
   ],
   "source": [
    "consolidated2"
   ]
  },
  {
   "cell_type": "code",
   "execution_count": 56,
   "metadata": {
    "scrolled": true
   },
   "outputs": [
    {
     "data": {
      "text/html": [
       "<div>\n",
       "<style scoped>\n",
       "    .dataframe tbody tr th:only-of-type {\n",
       "        vertical-align: middle;\n",
       "    }\n",
       "\n",
       "    .dataframe tbody tr th {\n",
       "        vertical-align: top;\n",
       "    }\n",
       "\n",
       "    .dataframe thead th {\n",
       "        text-align: right;\n",
       "    }\n",
       "</style>\n",
       "<table border=\"1\" class=\"dataframe\">\n",
       "  <thead>\n",
       "    <tr style=\"text-align: right;\">\n",
       "      <th></th>\n",
       "      <th>Date</th>\n",
       "      <th>Time</th>\n",
       "      <th>price</th>\n",
       "      <th>side</th>\n",
       "      <th>profit</th>\n",
       "      <th>contracts</th>\n",
       "      <th>commodity</th>\n",
       "      <th>strategy</th>\n",
       "      <th>action</th>\n",
       "    </tr>\n",
       "  </thead>\n",
       "  <tbody>\n",
       "    <tr>\n",
       "      <th>1</th>\n",
       "      <td>2009/1/8</td>\n",
       "      <td>1900-01-01 10:41:15</td>\n",
       "      <td>4555.5</td>\n",
       "      <td>1.0</td>\n",
       "      <td>0.5</td>\n",
       "      <td>1.0</td>\n",
       "      <td>TXF</td>\n",
       "      <td>AI_Sim</td>\n",
       "      <td>Exit_Short</td>\n",
       "    </tr>\n",
       "    <tr>\n",
       "      <th>3</th>\n",
       "      <td>2009/1/8</td>\n",
       "      <td>1900-01-01 10:42:15</td>\n",
       "      <td>4554.0</td>\n",
       "      <td>-1.0</td>\n",
       "      <td>-1.5</td>\n",
       "      <td>2.0</td>\n",
       "      <td>TXF</td>\n",
       "      <td>AI_Sim</td>\n",
       "      <td>Exit_Long</td>\n",
       "    </tr>\n",
       "    <tr>\n",
       "      <th>5</th>\n",
       "      <td>2009/1/8</td>\n",
       "      <td>1900-01-01 10:43:15</td>\n",
       "      <td>4554.5</td>\n",
       "      <td>1.0</td>\n",
       "      <td>-0.5</td>\n",
       "      <td>2.0</td>\n",
       "      <td>TXF</td>\n",
       "      <td>AI_Sim</td>\n",
       "      <td>Exit_Short</td>\n",
       "    </tr>\n",
       "    <tr>\n",
       "      <th>7</th>\n",
       "      <td>2009/1/8</td>\n",
       "      <td>1900-01-01 10:44:15</td>\n",
       "      <td>4553.0</td>\n",
       "      <td>-1.0</td>\n",
       "      <td>1.0</td>\n",
       "      <td>2.0</td>\n",
       "      <td>TXF</td>\n",
       "      <td>AI_Sim</td>\n",
       "      <td>Exit_Long</td>\n",
       "    </tr>\n",
       "    <tr>\n",
       "      <th>9</th>\n",
       "      <td>2009/1/8</td>\n",
       "      <td>1900-01-01 10:46:15</td>\n",
       "      <td>4554.5</td>\n",
       "      <td>1.0</td>\n",
       "      <td>-0.0</td>\n",
       "      <td>2.0</td>\n",
       "      <td>TXF</td>\n",
       "      <td>AI_Sim</td>\n",
       "      <td>Exit_Short</td>\n",
       "    </tr>\n",
       "    <tr>\n",
       "      <th>...</th>\n",
       "      <td>...</td>\n",
       "      <td>...</td>\n",
       "      <td>...</td>\n",
       "      <td>...</td>\n",
       "      <td>...</td>\n",
       "      <td>...</td>\n",
       "      <td>...</td>\n",
       "      <td>...</td>\n",
       "      <td>...</td>\n",
       "    </tr>\n",
       "    <tr>\n",
       "      <th>631415</th>\n",
       "      <td>2019/12/13</td>\n",
       "      <td>1900-01-01 09:46:15</td>\n",
       "      <td>11966.5</td>\n",
       "      <td>-1.0</td>\n",
       "      <td>5.5</td>\n",
       "      <td>2.0</td>\n",
       "      <td>TXF</td>\n",
       "      <td>AI_Sim</td>\n",
       "      <td>Exit_Long</td>\n",
       "    </tr>\n",
       "    <tr>\n",
       "      <th>631417</th>\n",
       "      <td>2019/12/13</td>\n",
       "      <td>1900-01-01 09:52:15</td>\n",
       "      <td>11949.5</td>\n",
       "      <td>1.0</td>\n",
       "      <td>7.0</td>\n",
       "      <td>2.0</td>\n",
       "      <td>TXF</td>\n",
       "      <td>AI_Sim</td>\n",
       "      <td>Exit_Short</td>\n",
       "    </tr>\n",
       "    <tr>\n",
       "      <th>631419</th>\n",
       "      <td>2019/12/13</td>\n",
       "      <td>1900-01-01 10:00:15</td>\n",
       "      <td>11951.5</td>\n",
       "      <td>-1.0</td>\n",
       "      <td>3.5</td>\n",
       "      <td>2.0</td>\n",
       "      <td>TXF</td>\n",
       "      <td>AI_Sim</td>\n",
       "      <td>Exit_Long</td>\n",
       "    </tr>\n",
       "    <tr>\n",
       "      <th>631421</th>\n",
       "      <td>2019/12/13</td>\n",
       "      <td>1900-01-01 10:03:15</td>\n",
       "      <td>11930.0</td>\n",
       "      <td>1.0</td>\n",
       "      <td>5.0</td>\n",
       "      <td>2.0</td>\n",
       "      <td>TXF</td>\n",
       "      <td>AI_Sim</td>\n",
       "      <td>Exit_Short</td>\n",
       "    </tr>\n",
       "    <tr>\n",
       "      <th>631423</th>\n",
       "      <td>2019/12/13</td>\n",
       "      <td>1900-01-01 10:16:15</td>\n",
       "      <td>11930.0</td>\n",
       "      <td>-1.0</td>\n",
       "      <td>2.5</td>\n",
       "      <td>2.0</td>\n",
       "      <td>TXF</td>\n",
       "      <td>AI_Sim</td>\n",
       "      <td>Exit_Long</td>\n",
       "    </tr>\n",
       "  </tbody>\n",
       "</table>\n",
       "<p>315712 rows × 9 columns</p>\n",
       "</div>"
      ],
      "text/plain": [
       "              Date                Time    price  side  profit  contracts  \\\n",
       "1         2009/1/8 1900-01-01 10:41:15   4555.5   1.0     0.5        1.0   \n",
       "3         2009/1/8 1900-01-01 10:42:15   4554.0  -1.0    -1.5        2.0   \n",
       "5         2009/1/8 1900-01-01 10:43:15   4554.5   1.0    -0.5        2.0   \n",
       "7         2009/1/8 1900-01-01 10:44:15   4553.0  -1.0     1.0        2.0   \n",
       "9         2009/1/8 1900-01-01 10:46:15   4554.5   1.0    -0.0        2.0   \n",
       "...            ...                 ...      ...   ...     ...        ...   \n",
       "631415  2019/12/13 1900-01-01 09:46:15  11966.5  -1.0     5.5        2.0   \n",
       "631417  2019/12/13 1900-01-01 09:52:15  11949.5   1.0     7.0        2.0   \n",
       "631419  2019/12/13 1900-01-01 10:00:15  11951.5  -1.0     3.5        2.0   \n",
       "631421  2019/12/13 1900-01-01 10:03:15  11930.0   1.0     5.0        2.0   \n",
       "631423  2019/12/13 1900-01-01 10:16:15  11930.0  -1.0     2.5        2.0   \n",
       "\n",
       "       commodity strategy      action  \n",
       "1            TXF   AI_Sim  Exit_Short  \n",
       "3            TXF   AI_Sim   Exit_Long  \n",
       "5            TXF   AI_Sim  Exit_Short  \n",
       "7            TXF   AI_Sim   Exit_Long  \n",
       "9            TXF   AI_Sim  Exit_Short  \n",
       "...          ...      ...         ...  \n",
       "631415       TXF   AI_Sim   Exit_Long  \n",
       "631417       TXF   AI_Sim  Exit_Short  \n",
       "631419       TXF   AI_Sim   Exit_Long  \n",
       "631421       TXF   AI_Sim  Exit_Short  \n",
       "631423       TXF   AI_Sim   Exit_Long  \n",
       "\n",
       "[315712 rows x 9 columns]"
      ]
     },
     "execution_count": 56,
     "metadata": {},
     "output_type": "execute_result"
    }
   ],
   "source": [
    "consolidated3"
   ]
  },
  {
   "cell_type": "code",
   "execution_count": 57,
   "metadata": {},
   "outputs": [],
   "source": [
    "consolidated = pd.concat([consolidated3, consolidated2]).sort_index()"
   ]
  },
  {
   "cell_type": "code",
   "execution_count": 58,
   "metadata": {},
   "outputs": [],
   "source": [
    "consolidated['contracts'] = np.ones(consolidated.shape[0])"
   ]
  },
  {
   "cell_type": "code",
   "execution_count": 59,
   "metadata": {},
   "outputs": [],
   "source": [
    "consolidated.columns=['date','time','price','side','profit','contracts','commodity','strategy','action']"
   ]
  },
  {
   "cell_type": "code",
   "execution_count": 60,
   "metadata": {},
   "outputs": [],
   "source": [
    "consolidated = consolidated[['date','time','commodity','action','side','contracts','price','strategy']]"
   ]
  },
  {
   "cell_type": "code",
   "execution_count": 61,
   "metadata": {},
   "outputs": [],
   "source": [
    "consolidated['time']=consolidated['time'].apply(lambda x: x.strftime('%H:%M:%S'))"
   ]
  },
  {
   "cell_type": "code",
   "execution_count": 62,
   "metadata": {},
   "outputs": [],
   "source": [
    "consolidated.to_csv('AISim.csv', index=False)"
   ]
  },
  {
   "cell_type": "code",
   "execution_count": 63,
   "metadata": {},
   "outputs": [
    {
     "data": {
      "text/html": [
       "<div>\n",
       "<style scoped>\n",
       "    .dataframe tbody tr th:only-of-type {\n",
       "        vertical-align: middle;\n",
       "    }\n",
       "\n",
       "    .dataframe tbody tr th {\n",
       "        vertical-align: top;\n",
       "    }\n",
       "\n",
       "    .dataframe thead th {\n",
       "        text-align: right;\n",
       "    }\n",
       "</style>\n",
       "<table border=\"1\" class=\"dataframe\">\n",
       "  <thead>\n",
       "    <tr style=\"text-align: right;\">\n",
       "      <th></th>\n",
       "      <th>date</th>\n",
       "      <th>time</th>\n",
       "      <th>commodity</th>\n",
       "      <th>action</th>\n",
       "      <th>side</th>\n",
       "      <th>contracts</th>\n",
       "      <th>price</th>\n",
       "      <th>strategy</th>\n",
       "    </tr>\n",
       "  </thead>\n",
       "  <tbody>\n",
       "    <tr>\n",
       "      <th>0</th>\n",
       "      <td>2009/1/8</td>\n",
       "      <td>10:41:00</td>\n",
       "      <td>TXF</td>\n",
       "      <td>Entry_Short</td>\n",
       "      <td>-1.0</td>\n",
       "      <td>1.0</td>\n",
       "      <td>4556.0</td>\n",
       "      <td>AI_Sim</td>\n",
       "    </tr>\n",
       "    <tr>\n",
       "      <th>1</th>\n",
       "      <td>2009/1/8</td>\n",
       "      <td>10:41:15</td>\n",
       "      <td>TXF</td>\n",
       "      <td>Exit_Short</td>\n",
       "      <td>1.0</td>\n",
       "      <td>1.0</td>\n",
       "      <td>4555.5</td>\n",
       "      <td>AI_Sim</td>\n",
       "    </tr>\n",
       "    <tr>\n",
       "      <th>2</th>\n",
       "      <td>2009/1/8</td>\n",
       "      <td>10:42:00</td>\n",
       "      <td>TXF</td>\n",
       "      <td>Entry_Long</td>\n",
       "      <td>1.0</td>\n",
       "      <td>1.0</td>\n",
       "      <td>4555.5</td>\n",
       "      <td>AI_Sim</td>\n",
       "    </tr>\n",
       "    <tr>\n",
       "      <th>3</th>\n",
       "      <td>2009/1/8</td>\n",
       "      <td>10:42:15</td>\n",
       "      <td>TXF</td>\n",
       "      <td>Exit_Long</td>\n",
       "      <td>-1.0</td>\n",
       "      <td>1.0</td>\n",
       "      <td>4554.0</td>\n",
       "      <td>AI_Sim</td>\n",
       "    </tr>\n",
       "    <tr>\n",
       "      <th>4</th>\n",
       "      <td>2009/1/8</td>\n",
       "      <td>10:43:00</td>\n",
       "      <td>TXF</td>\n",
       "      <td>Entry_Short</td>\n",
       "      <td>-1.0</td>\n",
       "      <td>1.0</td>\n",
       "      <td>4554.0</td>\n",
       "      <td>AI_Sim</td>\n",
       "    </tr>\n",
       "    <tr>\n",
       "      <th>...</th>\n",
       "      <td>...</td>\n",
       "      <td>...</td>\n",
       "      <td>...</td>\n",
       "      <td>...</td>\n",
       "      <td>...</td>\n",
       "      <td>...</td>\n",
       "      <td>...</td>\n",
       "      <td>...</td>\n",
       "    </tr>\n",
       "    <tr>\n",
       "      <th>631419</th>\n",
       "      <td>2019/12/13</td>\n",
       "      <td>10:00:15</td>\n",
       "      <td>TXF</td>\n",
       "      <td>Exit_Long</td>\n",
       "      <td>-1.0</td>\n",
       "      <td>1.0</td>\n",
       "      <td>11951.5</td>\n",
       "      <td>AI_Sim</td>\n",
       "    </tr>\n",
       "    <tr>\n",
       "      <th>631420</th>\n",
       "      <td>2019/12/13</td>\n",
       "      <td>10:03:00</td>\n",
       "      <td>TXF</td>\n",
       "      <td>Entry_Short</td>\n",
       "      <td>-1.0</td>\n",
       "      <td>1.0</td>\n",
       "      <td>11951.5</td>\n",
       "      <td>AI_Sim</td>\n",
       "    </tr>\n",
       "    <tr>\n",
       "      <th>631421</th>\n",
       "      <td>2019/12/13</td>\n",
       "      <td>10:03:15</td>\n",
       "      <td>TXF</td>\n",
       "      <td>Exit_Short</td>\n",
       "      <td>1.0</td>\n",
       "      <td>1.0</td>\n",
       "      <td>11930.0</td>\n",
       "      <td>AI_Sim</td>\n",
       "    </tr>\n",
       "    <tr>\n",
       "      <th>631422</th>\n",
       "      <td>2019/12/13</td>\n",
       "      <td>10:16:00</td>\n",
       "      <td>TXF</td>\n",
       "      <td>Entry_Long</td>\n",
       "      <td>1.0</td>\n",
       "      <td>1.0</td>\n",
       "      <td>11930.0</td>\n",
       "      <td>AI_Sim</td>\n",
       "    </tr>\n",
       "    <tr>\n",
       "      <th>631423</th>\n",
       "      <td>2019/12/13</td>\n",
       "      <td>10:16:15</td>\n",
       "      <td>TXF</td>\n",
       "      <td>Exit_Long</td>\n",
       "      <td>-1.0</td>\n",
       "      <td>1.0</td>\n",
       "      <td>11930.0</td>\n",
       "      <td>AI_Sim</td>\n",
       "    </tr>\n",
       "  </tbody>\n",
       "</table>\n",
       "<p>631424 rows × 8 columns</p>\n",
       "</div>"
      ],
      "text/plain": [
       "              date      time commodity       action  side  contracts    price  \\\n",
       "0         2009/1/8  10:41:00       TXF  Entry_Short  -1.0        1.0   4556.0   \n",
       "1         2009/1/8  10:41:15       TXF   Exit_Short   1.0        1.0   4555.5   \n",
       "2         2009/1/8  10:42:00       TXF   Entry_Long   1.0        1.0   4555.5   \n",
       "3         2009/1/8  10:42:15       TXF    Exit_Long  -1.0        1.0   4554.0   \n",
       "4         2009/1/8  10:43:00       TXF  Entry_Short  -1.0        1.0   4554.0   \n",
       "...            ...       ...       ...          ...   ...        ...      ...   \n",
       "631419  2019/12/13  10:00:15       TXF    Exit_Long  -1.0        1.0  11951.5   \n",
       "631420  2019/12/13  10:03:00       TXF  Entry_Short  -1.0        1.0  11951.5   \n",
       "631421  2019/12/13  10:03:15       TXF   Exit_Short   1.0        1.0  11930.0   \n",
       "631422  2019/12/13  10:16:00       TXF   Entry_Long   1.0        1.0  11930.0   \n",
       "631423  2019/12/13  10:16:15       TXF    Exit_Long  -1.0        1.0  11930.0   \n",
       "\n",
       "       strategy  \n",
       "0        AI_Sim  \n",
       "1        AI_Sim  \n",
       "2        AI_Sim  \n",
       "3        AI_Sim  \n",
       "4        AI_Sim  \n",
       "...         ...  \n",
       "631419   AI_Sim  \n",
       "631420   AI_Sim  \n",
       "631421   AI_Sim  \n",
       "631422   AI_Sim  \n",
       "631423   AI_Sim  \n",
       "\n",
       "[631424 rows x 8 columns]"
      ]
     },
     "execution_count": 63,
     "metadata": {},
     "output_type": "execute_result"
    }
   ],
   "source": [
    "consolidated"
   ]
  },
  {
   "cell_type": "code",
   "execution_count": null,
   "metadata": {},
   "outputs": [],
   "source": []
  }
 ],
 "metadata": {
  "kernelspec": {
   "display_name": "Python 3",
   "language": "python",
   "name": "python3"
  },
  "language_info": {
   "codemirror_mode": {
    "name": "ipython",
    "version": 3
   },
   "file_extension": ".py",
   "mimetype": "text/x-python",
   "name": "python",
   "nbconvert_exporter": "python",
   "pygments_lexer": "ipython3",
   "version": "3.6.10"
  }
 },
 "nbformat": 4,
 "nbformat_minor": 4
}
