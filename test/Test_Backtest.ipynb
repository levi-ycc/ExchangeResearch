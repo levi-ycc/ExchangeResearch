{
 "cells": [
  {
   "cell_type": "code",
   "execution_count": 9,
   "metadata": {
    "scrolled": false
   },
   "outputs": [],
   "source": [
    "import numpy as np\n",
    "import pandas as pd\n",
    "from util import BackTest\n",
    "from agent import ContinuousAgent\n",
    "from util.config import Config"
   ]
  },
  {
   "cell_type": "code",
   "execution_count": 4,
   "metadata": {
    "scrolled": true
   },
   "outputs": [
    {
     "name": "stdout",
     "output_type": "stream",
     "text": [
      "WARNING:tensorflow:From /home/zekechyo/anaconda3/envs/stockExchange/lib/python3.6/site-packages/keras/backend/tensorflow_backend.py:1210: calling reduce_prod_v1 (from tensorflow.python.ops.math_ops) with keep_dims is deprecated and will be removed in a future version.\n",
      "Instructions for updating:\n",
      "keep_dims is deprecated, use keepdims instead\n",
      "WARNING:tensorflow:From /home/zekechyo/anaconda3/envs/stockExchange/lib/python3.6/site-packages/tensorflow/python/framework/op_def_library.py:263: colocate_with (from tensorflow.python.framework.ops) is deprecated and will be removed in a future version.\n",
      "Instructions for updating:\n",
      "Colocations handled automatically by placer.\n"
     ]
    },
    {
     "name": "stderr",
     "output_type": "stream",
     "text": [
      "/home/zekechyo/anaconda3/envs/stockExchange/lib/python3.6/site-packages/gym/logger.py:30: UserWarning: \u001b[33mWARN: Environment '<class 'gym.envs.custom.env.TradingEnv'>' has deprecated methods '_step' and '_reset' rather than 'step' and 'reset'. Compatibility code invoked. Set _gym_disable_underscore_compat = True to disable this behavior.\u001b[0m\n",
      "  warnings.warn(colorize('%s: %s'%('WARN', msg % args), 'yellow'))\n"
     ]
    },
    {
     "name": "stdout",
     "output_type": "stream",
     "text": [
      "WARNING:tensorflow:From /home/zekechyo/anaconda3/envs/stockExchange/lib/python3.6/site-packages/keras/backend/tensorflow_backend.py:1156: calling reduce_max_v1 (from tensorflow.python.ops.math_ops) with keep_dims is deprecated and will be removed in a future version.\n",
      "Instructions for updating:\n",
      "keep_dims is deprecated, use keepdims instead\n",
      "WARNING:tensorflow:From /home/zekechyo/anaconda3/envs/stockExchange/lib/python3.6/site-packages/keras/backend/tensorflow_backend.py:1192: calling reduce_sum_v1 (from tensorflow.python.ops.math_ops) with keep_dims is deprecated and will be removed in a future version.\n",
      "Instructions for updating:\n",
      "keep_dims is deprecated, use keepdims instead\n"
     ]
    }
   ],
   "source": [
    "conf = Config(path='config/continuous_05-L.yaml')\n",
    "ca =  ContinuousAgent(config=conf)\n",
    "ca.load_weights('weights/05L_actor.h5f', 'weights/05L_critic.h5f')"
   ]
  },
  {
   "cell_type": "code",
   "execution_count": 7,
   "metadata": {},
   "outputs": [],
   "source": [
    "df = pd.read_csv('data/fitx.txt')"
   ]
  },
  {
   "cell_type": "code",
   "execution_count": 9,
   "metadata": {},
   "outputs": [],
   "source": [
    "df = df.iloc[0:1050]\n",
    "df.index = range(df.shape[0])"
   ]
  },
  {
   "cell_type": "code",
   "execution_count": 14,
   "metadata": {},
   "outputs": [],
   "source": [
    "df.columns = ['Date', 'Time', 'O', 'H', 'L', 'C', 'V']"
   ]
  },
  {
   "cell_type": "code",
   "execution_count": 15,
   "metadata": {},
   "outputs": [],
   "source": [
    "df.to_csv('data/y3.csv', index=False)"
   ]
  },
  {
   "cell_type": "code",
   "execution_count": 16,
   "metadata": {
    "scrolled": true
   },
   "outputs": [
    {
     "name": "stdout",
     "output_type": "stream",
     "text": [
      "\n",
      "_______________________________________________________________________________________________________\n",
      "\n",
      "\n",
      "Accuracy:\t62.86% \n",
      "Total:\t\t35\n",
      "Avg Win:\t0.01%\tMax Win:\t0.03%\n",
      "Avg Loss:\t0.0%\tMax Loss:\t0.02%\n",
      "Max Drawdown: 0.0002\n",
      "Sharpe: 6.1859\n",
      "Sortino: 16.9825\n"
     ]
    }
   ],
   "source": [
    "ca.backtest('data/y3.csv', 1000)"
   ]
  },
  {
   "cell_type": "code",
   "execution_count": 19,
   "metadata": {},
   "outputs": [],
   "source": [
    "ca.bt_df['market_price']= (ca.bt_df['H']+ca.bt_df['L'])/2"
   ]
  },
  {
   "cell_type": "code",
   "execution_count": 27,
   "metadata": {},
   "outputs": [],
   "source": [
    "ca.bt_df['val'] = ca.bt_df['market_price'].diff().shift(-1).fillna(0)*ca.bt_df.Position"
   ]
  },
  {
   "cell_type": "code",
   "execution_count": 38,
   "metadata": {},
   "outputs": [
    {
     "data": {
      "text/plain": [
       "True"
      ]
     },
     "execution_count": 38,
     "metadata": {},
     "output_type": "execute_result"
    }
   ],
   "source": [
    "np.equal(ca.bt_df['val'], ca.bt_df['PnL']).all()"
   ]
  },
  {
   "cell_type": "code",
   "execution_count": 5,
   "metadata": {
    "scrolled": false
   },
   "outputs": [
    {
     "data": {
      "image/png": "[encoded data removed]",
      "text/plain": [
       "<Figure size 432x288 with 1 Axes>"
      ]
     },
     "metadata": {
      "needs_background": "light"
     },
     "output_type": "display_data"
    }
   ],
   "source": [
    "import matplotlib.pyplot as plt\n",
    "plt.plot(ca.bt_df['Cum_PnL'])\n",
    "ca.bt_df.to_csv('journal/3yjournal.csv', index=False)"
   ]
  },
  {
   "cell_type": "code",
   "execution_count": 2,
   "metadata": {},
   "outputs": [],
   "source": [
    "test_array = np.random.normal(size=(500, 11))"
   ]
  },
  {
   "cell_type": "code",
   "execution_count": 3,
   "metadata": {},
   "outputs": [],
   "source": [
    "test_df = pd.DataFrame(test_array, columns=['Date', 'O', 'H', 'L', 'C', 'V', 'tmp1', 'tmp2', 'tmp3', 'tmp4', 'tmp5'])"
   ]
  },
  {
   "cell_type": "code",
   "execution_count": 4,
   "metadata": {
    "scrolled": true
   },
   "outputs": [
    {
     "data": {
      "text/html": [
       "<div>\n",
       "<style scoped>\n",
       "    .dataframe tbody tr th:only-of-type {\n",
       "        vertical-align: middle;\n",
       "    }\n",
       "\n",
       "    .dataframe tbody tr th {\n",
       "        vertical-align: top;\n",
       "    }\n",
       "\n",
       "    .dataframe thead th {\n",
       "        text-align: right;\n",
       "    }\n",
       "</style>\n",
       "<table border=\"1\" class=\"dataframe\">\n",
       "  <thead>\n",
       "    <tr style=\"text-align: right;\">\n",
       "      <th></th>\n",
       "      <th>Date</th>\n",
       "      <th>O</th>\n",
       "      <th>H</th>\n",
       "      <th>L</th>\n",
       "      <th>C</th>\n",
       "      <th>V</th>\n",
       "      <th>tmp1</th>\n",
       "      <th>tmp2</th>\n",
       "      <th>tmp3</th>\n",
       "      <th>tmp4</th>\n",
       "      <th>tmp5</th>\n",
       "    </tr>\n",
       "  </thead>\n",
       "  <tbody>\n",
       "    <tr>\n",
       "      <th>0</th>\n",
       "      <td>-2.119996</td>\n",
       "      <td>-0.148606</td>\n",
       "      <td>0.404186</td>\n",
       "      <td>-1.932309</td>\n",
       "      <td>-0.710589</td>\n",
       "      <td>-0.612165</td>\n",
       "      <td>0.537166</td>\n",
       "      <td>0.026400</td>\n",
       "      <td>0.124352</td>\n",
       "      <td>-0.675335</td>\n",
       "      <td>-0.511085</td>\n",
       "    </tr>\n",
       "    <tr>\n",
       "      <th>1</th>\n",
       "      <td>2.312370</td>\n",
       "      <td>1.097624</td>\n",
       "      <td>-1.423205</td>\n",
       "      <td>-1.187301</td>\n",
       "      <td>-1.375313</td>\n",
       "      <td>1.155634</td>\n",
       "      <td>-0.882581</td>\n",
       "      <td>-0.889762</td>\n",
       "      <td>-0.810577</td>\n",
       "      <td>-0.287981</td>\n",
       "      <td>-0.156857</td>\n",
       "    </tr>\n",
       "    <tr>\n",
       "      <th>2</th>\n",
       "      <td>1.253181</td>\n",
       "      <td>1.215135</td>\n",
       "      <td>-0.811875</td>\n",
       "      <td>0.837997</td>\n",
       "      <td>-1.210634</td>\n",
       "      <td>-1.142888</td>\n",
       "      <td>-1.271919</td>\n",
       "      <td>-0.236858</td>\n",
       "      <td>-0.121055</td>\n",
       "      <td>0.735924</td>\n",
       "      <td>0.567095</td>\n",
       "    </tr>\n",
       "    <tr>\n",
       "      <th>3</th>\n",
       "      <td>0.742833</td>\n",
       "      <td>2.603069</td>\n",
       "      <td>0.322282</td>\n",
       "      <td>-0.907447</td>\n",
       "      <td>-0.015944</td>\n",
       "      <td>-0.069927</td>\n",
       "      <td>0.810374</td>\n",
       "      <td>-0.546966</td>\n",
       "      <td>-1.074881</td>\n",
       "      <td>0.178128</td>\n",
       "      <td>-1.723779</td>\n",
       "    </tr>\n",
       "    <tr>\n",
       "      <th>4</th>\n",
       "      <td>1.345496</td>\n",
       "      <td>-0.529079</td>\n",
       "      <td>-0.057967</td>\n",
       "      <td>-0.162377</td>\n",
       "      <td>-0.651793</td>\n",
       "      <td>1.457617</td>\n",
       "      <td>0.993575</td>\n",
       "      <td>1.035479</td>\n",
       "      <td>-0.709764</td>\n",
       "      <td>1.416717</td>\n",
       "      <td>0.007903</td>\n",
       "    </tr>\n",
       "    <tr>\n",
       "      <th>...</th>\n",
       "      <td>...</td>\n",
       "      <td>...</td>\n",
       "      <td>...</td>\n",
       "      <td>...</td>\n",
       "      <td>...</td>\n",
       "      <td>...</td>\n",
       "      <td>...</td>\n",
       "      <td>...</td>\n",
       "      <td>...</td>\n",
       "      <td>...</td>\n",
       "      <td>...</td>\n",
       "    </tr>\n",
       "    <tr>\n",
       "      <th>495</th>\n",
       "      <td>0.589512</td>\n",
       "      <td>-0.503442</td>\n",
       "      <td>-1.002886</td>\n",
       "      <td>0.125854</td>\n",
       "      <td>-0.169910</td>\n",
       "      <td>-1.353263</td>\n",
       "      <td>-1.146620</td>\n",
       "      <td>-2.415714</td>\n",
       "      <td>1.789003</td>\n",
       "      <td>0.505440</td>\n",
       "      <td>-0.900746</td>\n",
       "    </tr>\n",
       "    <tr>\n",
       "      <th>496</th>\n",
       "      <td>1.736591</td>\n",
       "      <td>-0.819557</td>\n",
       "      <td>-0.719989</td>\n",
       "      <td>-0.549807</td>\n",
       "      <td>0.815675</td>\n",
       "      <td>-0.002629</td>\n",
       "      <td>-0.711055</td>\n",
       "      <td>-1.267661</td>\n",
       "      <td>0.238688</td>\n",
       "      <td>-0.247946</td>\n",
       "      <td>-0.396368</td>\n",
       "    </tr>\n",
       "    <tr>\n",
       "      <th>497</th>\n",
       "      <td>1.021051</td>\n",
       "      <td>0.448625</td>\n",
       "      <td>-0.286205</td>\n",
       "      <td>0.283199</td>\n",
       "      <td>-0.496471</td>\n",
       "      <td>1.244284</td>\n",
       "      <td>-2.393713</td>\n",
       "      <td>0.955347</td>\n",
       "      <td>0.347843</td>\n",
       "      <td>0.216209</td>\n",
       "      <td>1.391438</td>\n",
       "    </tr>\n",
       "    <tr>\n",
       "      <th>498</th>\n",
       "      <td>0.685555</td>\n",
       "      <td>0.389727</td>\n",
       "      <td>-1.539637</td>\n",
       "      <td>0.990122</td>\n",
       "      <td>0.955539</td>\n",
       "      <td>0.904098</td>\n",
       "      <td>-0.299633</td>\n",
       "      <td>0.563228</td>\n",
       "      <td>0.296376</td>\n",
       "      <td>-0.459912</td>\n",
       "      <td>-0.427967</td>\n",
       "    </tr>\n",
       "    <tr>\n",
       "      <th>499</th>\n",
       "      <td>0.649806</td>\n",
       "      <td>-0.949811</td>\n",
       "      <td>1.274549</td>\n",
       "      <td>1.591946</td>\n",
       "      <td>0.104623</td>\n",
       "      <td>-0.002928</td>\n",
       "      <td>2.155069</td>\n",
       "      <td>1.158860</td>\n",
       "      <td>0.347554</td>\n",
       "      <td>-2.607930</td>\n",
       "      <td>-0.448437</td>\n",
       "    </tr>\n",
       "  </tbody>\n",
       "</table>\n",
       "<p>500 rows × 11 columns</p>\n",
       "</div>"
      ],
      "text/plain": [
       "         Date         O         H         L         C         V      tmp1  \\\n",
       "0   -2.119996 -0.148606  0.404186 -1.932309 -0.710589 -0.612165  0.537166   \n",
       "1    2.312370  1.097624 -1.423205 -1.187301 -1.375313  1.155634 -0.882581   \n",
       "2    1.253181  1.215135 -0.811875  0.837997 -1.210634 -1.142888 -1.271919   \n",
       "3    0.742833  2.603069  0.322282 -0.907447 -0.015944 -0.069927  0.810374   \n",
       "4    1.345496 -0.529079 -0.057967 -0.162377 -0.651793  1.457617  0.993575   \n",
       "..        ...       ...       ...       ...       ...       ...       ...   \n",
       "495  0.589512 -0.503442 -1.002886  0.125854 -0.169910 -1.353263 -1.146620   \n",
       "496  1.736591 -0.819557 -0.719989 -0.549807  0.815675 -0.002629 -0.711055   \n",
       "497  1.021051  0.448625 -0.286205  0.283199 -0.496471  1.244284 -2.393713   \n",
       "498  0.685555  0.389727 -1.539637  0.990122  0.955539  0.904098 -0.299633   \n",
       "499  0.649806 -0.949811  1.274549  1.591946  0.104623 -0.002928  2.155069   \n",
       "\n",
       "         tmp2      tmp3      tmp4      tmp5  \n",
       "0    0.026400  0.124352 -0.675335 -0.511085  \n",
       "1   -0.889762 -0.810577 -0.287981 -0.156857  \n",
       "2   -0.236858 -0.121055  0.735924  0.567095  \n",
       "3   -0.546966 -1.074881  0.178128 -1.723779  \n",
       "4    1.035479 -0.709764  1.416717  0.007903  \n",
       "..        ...       ...       ...       ...  \n",
       "495 -2.415714  1.789003  0.505440 -0.900746  \n",
       "496 -1.267661  0.238688 -0.247946 -0.396368  \n",
       "497  0.955347  0.347843  0.216209  1.391438  \n",
       "498  0.563228  0.296376 -0.459912 -0.427967  \n",
       "499  1.158860  0.347554 -2.607930 -0.448437  \n",
       "\n",
       "[500 rows x 11 columns]"
      ]
     },
     "execution_count": 4,
     "metadata": {},
     "output_type": "execute_result"
    }
   ],
   "source": [
    "test_df"
   ]
  },
  {
   "cell_type": "code",
   "execution_count": 5,
   "metadata": {},
   "outputs": [],
   "source": [
    "class tempModel:\n",
    "    def __init__(self):\n",
    "        pass\n",
    "    def predict(self, data):\n",
    "        return np.random.choice([1,-1,0])"
   ]
  },
  {
   "cell_type": "code",
   "execution_count": 6,
   "metadata": {},
   "outputs": [],
   "source": [
    "model = tempModel()\n",
    "bt = BackTest(test_df, model)"
   ]
  },
  {
   "cell_type": "code",
   "execution_count": 7,
   "metadata": {},
   "outputs": [],
   "source": [
    "res = bt.out()"
   ]
  },
  {
   "cell_type": "code",
   "execution_count": 8,
   "metadata": {},
   "outputs": [
    {
     "data": {
      "text/html": [
       "<div>\n",
       "<style scoped>\n",
       "    .dataframe tbody tr th:only-of-type {\n",
       "        vertical-align: middle;\n",
       "    }\n",
       "\n",
       "    .dataframe tbody tr th {\n",
       "        vertical-align: top;\n",
       "    }\n",
       "\n",
       "    .dataframe thead th {\n",
       "        text-align: right;\n",
       "    }\n",
       "</style>\n",
       "<table border=\"1\" class=\"dataframe\">\n",
       "  <thead>\n",
       "    <tr style=\"text-align: right;\">\n",
       "      <th></th>\n",
       "      <th>O</th>\n",
       "      <th>H</th>\n",
       "      <th>L</th>\n",
       "      <th>C</th>\n",
       "      <th>V</th>\n",
       "      <th>Pos</th>\n",
       "      <th>PnL</th>\n",
       "      <th>Cum_PnL</th>\n",
       "      <th>Return</th>\n",
       "    </tr>\n",
       "  </thead>\n",
       "  <tbody>\n",
       "    <tr>\n",
       "      <th>0</th>\n",
       "      <td>-0.148606</td>\n",
       "      <td>0.404186</td>\n",
       "      <td>-1.932309</td>\n",
       "      <td>-0.710589</td>\n",
       "      <td>-0.612165</td>\n",
       "      <td>1</td>\n",
       "      <td>-0.541191</td>\n",
       "      <td>-0.541191</td>\n",
       "      <td>0.708308</td>\n",
       "    </tr>\n",
       "    <tr>\n",
       "      <th>1</th>\n",
       "      <td>1.097624</td>\n",
       "      <td>-1.423205</td>\n",
       "      <td>-1.187301</td>\n",
       "      <td>-1.375313</td>\n",
       "      <td>1.155634</td>\n",
       "      <td>0</td>\n",
       "      <td>0.000000</td>\n",
       "      <td>-0.541191</td>\n",
       "      <td>-0.000000</td>\n",
       "    </tr>\n",
       "    <tr>\n",
       "      <th>2</th>\n",
       "      <td>1.215135</td>\n",
       "      <td>-0.811875</td>\n",
       "      <td>0.837997</td>\n",
       "      <td>-1.210634</td>\n",
       "      <td>-1.142888</td>\n",
       "      <td>-1</td>\n",
       "      <td>0.305644</td>\n",
       "      <td>-0.235547</td>\n",
       "      <td>23.401148</td>\n",
       "    </tr>\n",
       "    <tr>\n",
       "      <th>3</th>\n",
       "      <td>2.603069</td>\n",
       "      <td>0.322282</td>\n",
       "      <td>-0.907447</td>\n",
       "      <td>-0.015944</td>\n",
       "      <td>-0.069927</td>\n",
       "      <td>0</td>\n",
       "      <td>0.000000</td>\n",
       "      <td>-0.235547</td>\n",
       "      <td>-0.000000</td>\n",
       "    </tr>\n",
       "    <tr>\n",
       "      <th>4</th>\n",
       "      <td>-0.529079</td>\n",
       "      <td>-0.057967</td>\n",
       "      <td>-0.162377</td>\n",
       "      <td>-0.651793</td>\n",
       "      <td>1.457617</td>\n",
       "      <td>-1</td>\n",
       "      <td>0.961325</td>\n",
       "      <td>0.725777</td>\n",
       "      <td>-8.725649</td>\n",
       "    </tr>\n",
       "    <tr>\n",
       "      <th>...</th>\n",
       "      <td>...</td>\n",
       "      <td>...</td>\n",
       "      <td>...</td>\n",
       "      <td>...</td>\n",
       "      <td>...</td>\n",
       "      <td>...</td>\n",
       "      <td>...</td>\n",
       "      <td>...</td>\n",
       "      <td>...</td>\n",
       "    </tr>\n",
       "    <tr>\n",
       "      <th>495</th>\n",
       "      <td>-0.503442</td>\n",
       "      <td>-1.002886</td>\n",
       "      <td>0.125854</td>\n",
       "      <td>-0.169910</td>\n",
       "      <td>-1.353263</td>\n",
       "      <td>-1</td>\n",
       "      <td>0.196382</td>\n",
       "      <td>-20.255838</td>\n",
       "      <td>-0.447834</td>\n",
       "    </tr>\n",
       "    <tr>\n",
       "      <th>496</th>\n",
       "      <td>-0.819557</td>\n",
       "      <td>-0.719989</td>\n",
       "      <td>-0.549807</td>\n",
       "      <td>0.815675</td>\n",
       "      <td>-0.002629</td>\n",
       "      <td>0</td>\n",
       "      <td>0.000000</td>\n",
       "      <td>-20.255838</td>\n",
       "      <td>-0.000000</td>\n",
       "    </tr>\n",
       "    <tr>\n",
       "      <th>497</th>\n",
       "      <td>0.448625</td>\n",
       "      <td>-0.286205</td>\n",
       "      <td>0.283199</td>\n",
       "      <td>-0.496471</td>\n",
       "      <td>1.244284</td>\n",
       "      <td>1</td>\n",
       "      <td>-0.273254</td>\n",
       "      <td>-20.529092</td>\n",
       "      <td>181.758286</td>\n",
       "    </tr>\n",
       "    <tr>\n",
       "      <th>498</th>\n",
       "      <td>0.389727</td>\n",
       "      <td>-1.539637</td>\n",
       "      <td>0.990122</td>\n",
       "      <td>0.955539</td>\n",
       "      <td>0.904098</td>\n",
       "      <td>0</td>\n",
       "      <td>0.000000</td>\n",
       "      <td>-20.529092</td>\n",
       "      <td>-0.000000</td>\n",
       "    </tr>\n",
       "    <tr>\n",
       "      <th>499</th>\n",
       "      <td>-0.949811</td>\n",
       "      <td>1.274549</td>\n",
       "      <td>1.591946</td>\n",
       "      <td>0.104623</td>\n",
       "      <td>-0.002928</td>\n",
       "      <td>0</td>\n",
       "      <td>0.000000</td>\n",
       "      <td>-20.529092</td>\n",
       "      <td>0.000000</td>\n",
       "    </tr>\n",
       "  </tbody>\n",
       "</table>\n",
       "<p>500 rows × 9 columns</p>\n",
       "</div>"
      ],
      "text/plain": [
       "            O         H         L         C         V  Pos       PnL  \\\n",
       "0   -0.148606  0.404186 -1.932309 -0.710589 -0.612165    1 -0.541191   \n",
       "1    1.097624 -1.423205 -1.187301 -1.375313  1.155634    0  0.000000   \n",
       "2    1.215135 -0.811875  0.837997 -1.210634 -1.142888   -1  0.305644   \n",
       "3    2.603069  0.322282 -0.907447 -0.015944 -0.069927    0  0.000000   \n",
       "4   -0.529079 -0.057967 -0.162377 -0.651793  1.457617   -1  0.961325   \n",
       "..        ...       ...       ...       ...       ...  ...       ...   \n",
       "495 -0.503442 -1.002886  0.125854 -0.169910 -1.353263   -1  0.196382   \n",
       "496 -0.819557 -0.719989 -0.549807  0.815675 -0.002629    0  0.000000   \n",
       "497  0.448625 -0.286205  0.283199 -0.496471  1.244284    1 -0.273254   \n",
       "498  0.389727 -1.539637  0.990122  0.955539  0.904098    0  0.000000   \n",
       "499 -0.949811  1.274549  1.591946  0.104623 -0.002928    0  0.000000   \n",
       "\n",
       "       Cum_PnL      Return  \n",
       "0    -0.541191    0.708308  \n",
       "1    -0.541191   -0.000000  \n",
       "2    -0.235547   23.401148  \n",
       "3    -0.235547   -0.000000  \n",
       "4     0.725777   -8.725649  \n",
       "..         ...         ...  \n",
       "495 -20.255838   -0.447834  \n",
       "496 -20.255838   -0.000000  \n",
       "497 -20.529092  181.758286  \n",
       "498 -20.529092   -0.000000  \n",
       "499 -20.529092    0.000000  \n",
       "\n",
       "[500 rows x 9 columns]"
      ]
     },
     "execution_count": 8,
     "metadata": {},
     "output_type": "execute_result"
    }
   ],
   "source": [
    "res"
   ]
  },
  {
   "cell_type": "code",
   "execution_count": null,
   "metadata": {},
   "outputs": [],
   "source": []
  },
  {
   "cell_type": "code",
   "execution_count": null,
   "metadata": {},
   "outputs": [],
   "source": []
  }
 ],
 "metadata": {
  "kernelspec": {
   "display_name": "Python 3",
   "language": "python",
   "name": "python3"
  },
  "language_info": {
   "codemirror_mode": {
    "name": "ipython",
    "version": 3
   },
   "file_extension": ".py",
   "mimetype": "text/x-python",
   "name": "python",
   "nbconvert_exporter": "python",
   "pygments_lexer": "ipython3",
   "version": "3.6.10"
  }
 },
 "nbformat": 4,
 "nbformat_minor": 4
}
