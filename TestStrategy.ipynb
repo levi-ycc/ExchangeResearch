{
 "cells": [
  {
   "cell_type": "code",
   "execution_count": 58,
   "metadata": {},
   "outputs": [],
   "source": [
    "import pandas as pd\n",
    "from strategy import MyStrategy\n",
    "import matplotlib.pyplot as plt\n",
    "import numpy as np\n",
    "from lib.utils import plot"
   ]
  },
  {
   "cell_type": "code",
   "execution_count": 59,
   "metadata": {},
   "outputs": [],
   "source": [
    "o_base = pd.read_csv('journal/journal_base_continuous-L.csv')\n",
    "o_05 = pd.read_csv('journal/journal_05_continuous-L.csv')\n",
    "o_10 = pd.read_csv('journal/journal_10_continuous-L.csv')\n",
    "o_15 = pd.read_csv('journal/journal_15_continuous-L.csv')\n",
    "o_20 = pd.read_csv('journal/journal_20_continuous-L.csv')"
   ]
  },
  {
   "cell_type": "code",
   "execution_count": 40,
   "metadata": {},
   "outputs": [],
   "source": [
    "base_50=o_base['Position'].describe()['50%']\n",
    "L05_50 = o_05['Position'].describe()['50%']\n",
    "L10_50 = o_10['Position'].describe()['50%']\n",
    "L15_50 = o_15['Position'].describe()['50%']\n",
    "L20_50 = o_20['Position'].describe()['50%']"
   ]
  },
  {
   "cell_type": "code",
   "execution_count": 48,
   "metadata": {},
   "outputs": [],
   "source": [
    "l50 = [base_50, L05_50, L10_50, L15_50, L20_50]"
   ]
  },
  {
   "cell_type": "code",
   "execution_count": 46,
   "metadata": {},
   "outputs": [],
   "source": [
    "df_base = pd.read_csv('journal/bt_base.csv')\n",
    "df_05 = pd.read_csv('journal/bt_05L.csv')\n",
    "df_10 = pd.read_csv('journal/bt_10L.csv')\n",
    "df_15 = pd.read_csv('journal/bt_15L.csv')\n",
    "df_20 = pd.read_csv('journal/bt_20L.csv')"
   ]
  },
  {
   "cell_type": "code",
   "execution_count": 60,
   "metadata": {},
   "outputs": [],
   "source": [
    "all_df_base = pd.read_csv('journal/all_bt_base.csv')\n",
    "all_df_05 = pd.read_csv('journal/all_bt_05L.csv')\n",
    "all_df_10 = pd.read_csv('journal/all_bt_10L.csv')\n",
    "all_df_15 = pd.read_csv('journal/all_bt_15L.csv')\n",
    "all_df_20 = pd.read_csv('journal/all_bt_20L.csv')"
   ]
  },
  {
   "cell_type": "code",
   "execution_count": 47,
   "metadata": {},
   "outputs": [],
   "source": [
    "class newStr(MyStrategy):\n",
    "    \n",
    "    def __init__(self, journal_df):\n",
    "        super().__init__(journal_df)\n",
    "        \n",
    "    def generate_signals(self, p50):\n",
    "#         pass\n",
    "        self.strat_df['Position'][self.strat_df['Position'] >= p50] = 1\n",
    "        self.strat_df['Position'][self.strat_df['Position'] <= p50] = -1\n",
    "        "
   ]
  },
  {
   "cell_type": "code",
   "execution_count": 68,
   "metadata": {},
   "outputs": [],
   "source": [
    "def stats_result(strat_list, training_stats):\n",
    "    if type(strat_list) == list:\n",
    "        assert len(strat_list) == len(training_stats)\n",
    "        for d in range(len(strat_list)):\n",
    "            ns = newStr(strat_list[d])\n",
    "            ns.generate_signals(training_stats[d])\n",
    "            ns.run_backtest()\n",
    "            ns.stats()\n",
    "            print('CumSum: {}'.format(ns.strat_df['PnL'].sum()))\n",
    "        return 0\n",
    "    \n",
    "    else:\n",
    "        ns = newStr(strat_list)\n",
    "        ns.generate_signals(training_stats)\n",
    "        ns.run_backtest()\n",
    "        ns.stats()\n",
    "        print('CumSum: {}'.format(ns.strat_df['PnL'].sum()))\n",
    "        return ns.strat_df"
   ]
  },
  {
   "cell_type": "code",
   "execution_count": 64,
   "metadata": {},
   "outputs": [
    {
     "data": {
      "text/plain": [
       "True"
      ]
     },
     "execution_count": 64,
     "metadata": {},
     "output_type": "execute_result"
    }
   ],
   "source": [
    "type(dl) == list"
   ]
  },
  {
   "cell_type": "code",
   "execution_count": 53,
   "metadata": {
    "scrolled": true
   },
   "outputs": [
    {
     "name": "stderr",
     "output_type": "stream",
     "text": [
      "/home/zekechyo/anaconda3/envs/stockExchange/lib/python3.6/site-packages/ipykernel_launcher.py:8: SettingWithCopyWarning: \n",
      "A value is trying to be set on a copy of a slice from a DataFrame\n",
      "\n",
      "See the caveats in the documentation: https://pandas.pydata.org/pandas-docs/stable/user_guide/indexing.html#returning-a-view-versus-a-copy\n",
      "  \n",
      "/home/zekechyo/anaconda3/envs/stockExchange/lib/python3.6/site-packages/ipykernel_launcher.py:9: SettingWithCopyWarning: \n",
      "A value is trying to be set on a copy of a slice from a DataFrame\n",
      "\n",
      "See the caveats in the documentation: https://pandas.pydata.org/pandas-docs/stable/user_guide/indexing.html#returning-a-view-versus-a-copy\n",
      "  if __name__ == '__main__':\n"
     ]
    },
    {
     "name": "stdout",
     "output_type": "stream",
     "text": [
      "\n",
      "_______________________________________________________________________________________________________\n",
      "\n",
      "\n",
      "Accuracy:\t43.75% \n",
      "Total:\t\t241469\n",
      "Avg Win:\t0.03%\tMax Win:\t5.17%\n",
      "Avg Loss:\t0.02%\tMax Loss:\t2.45%\n",
      "Max Drawdown: 0.3474\n",
      "Sharpe: -0.0514\n",
      "Sortino: -0.0789\n",
      "CumSum: -158.35000000000002\n",
      "\n",
      "_______________________________________________________________________________________________________\n",
      "\n",
      "\n",
      "Accuracy:\t48.46% \n",
      "Total:\t\t241469\n",
      "Avg Win:\t0.03%\tMax Win:\t5.17%\n",
      "Avg Loss:\t0.02%\tMax Loss:\t3.99%\n",
      "Max Drawdown: 0.1028\n",
      "Sharpe: 1.0741\n",
      "Sortino: 1.6813\n",
      "CumSum: 3476.1000000000017\n",
      "\n",
      "_______________________________________________________________________________________________________\n",
      "\n",
      "\n",
      "Accuracy:\t42.25% \n",
      "Total:\t\t241469\n",
      "Avg Win:\t0.03%\tMax Win:\t3.77%\n",
      "Avg Loss:\t0.02%\tMax Loss:\t5.17%\n",
      "Max Drawdown: 0.9165\n",
      "Sharpe: -0.3248\n",
      "Sortino: -0.4432\n",
      "CumSum: -1065.1000000000097\n",
      "\n",
      "_______________________________________________________________________________________________________\n",
      "\n",
      "\n",
      "Accuracy:\t43.2% \n",
      "Total:\t\t241469\n",
      "Avg Win:\t0.03%\tMax Win:\t2.65%\n",
      "Avg Loss:\t0.02%\tMax Loss:\t5.17%\n",
      "Max Drawdown: 0.8833\n",
      "Sharpe: -0.2814\n",
      "Sortino: -0.3659\n",
      "CumSum: -906.100000000014\n",
      "\n",
      "_______________________________________________________________________________________________________\n",
      "\n",
      "\n",
      "Accuracy:\t49.72% \n",
      "Total:\t\t241469\n",
      "Avg Win:\t0.03%\tMax Win:\t5.17%\n",
      "Avg Loss:\t0.02%\tMax Loss:\t3.77%\n",
      "Max Drawdown: 0.0426\n",
      "Sharpe: 1.2911\n",
      "Sortino: 2.067\n",
      "CumSum: 4180.599999999979\n"
     ]
    }
   ],
   "source": [
    "dl=[df_base, df_05, df_10, df_15, df_20]\n",
    "for d in range(len(dl)):\n",
    "    ns = newStr(dl[d])\n",
    "    ns.generate_signals(l50[d])\n",
    "    ns.run_backtest()\n",
    "    ns.stats()\n",
    "    print('CumSum: {}'.format(ns.strat_df['PnL'].sum()))"
   ]
  },
  {
   "cell_type": "code",
   "execution_count": 55,
   "metadata": {
    "scrolled": true
   },
   "outputs": [
    {
     "name": "stderr",
     "output_type": "stream",
     "text": [
      "/home/zekechyo/anaconda3/envs/stockExchange/lib/python3.6/site-packages/ipykernel_launcher.py:8: SettingWithCopyWarning: \n",
      "A value is trying to be set on a copy of a slice from a DataFrame\n",
      "\n",
      "See the caveats in the documentation: https://pandas.pydata.org/pandas-docs/stable/user_guide/indexing.html#returning-a-view-versus-a-copy\n",
      "  \n",
      "/home/zekechyo/anaconda3/envs/stockExchange/lib/python3.6/site-packages/ipykernel_launcher.py:9: SettingWithCopyWarning: \n",
      "A value is trying to be set on a copy of a slice from a DataFrame\n",
      "\n",
      "See the caveats in the documentation: https://pandas.pydata.org/pandas-docs/stable/user_guide/indexing.html#returning-a-view-versus-a-copy\n",
      "  if __name__ == '__main__':\n"
     ]
    },
    {
     "name": "stdout",
     "output_type": "stream",
     "text": [
      "\n",
      "_______________________________________________________________________________________________________\n",
      "\n",
      "\n",
      "Accuracy:\t49.72% \n",
      "Total:\t\t241469\n",
      "Avg Win:\t0.03%\tMax Win:\t5.17%\n",
      "Avg Loss:\t0.02%\tMax Loss:\t3.77%\n",
      "Max Drawdown: 0.0426\n",
      "Sharpe: 1.2911\n",
      "Sortino: 2.067\n"
     ]
    },
    {
     "data": {
      "image/png": "[encoded data removed]",
      "text/plain": [
       "<Figure size 1080x1080 with 1 Axes>"
      ]
     },
     "metadata": {
      "needs_background": "light"
     },
     "output_type": "display_data"
    }
   ],
   "source": [
    "ns = newStr(df_20)\n",
    "ns.generate_signals(L20_50)\n",
    "ns.run_backtest()\n",
    "ns.stats()\n",
    "plot(ns.strat_df, start_index=ns.strat_df.shape[0]-100)"
   ]
  },
  {
   "cell_type": "code",
   "execution_count": 56,
   "metadata": {
    "scrolled": true
   },
   "outputs": [
    {
     "data": {
      "text/plain": [
       "[<matplotlib.lines.Line2D at 0x7bdc23d0b3c8>]"
      ]
     },
     "execution_count": 56,
     "metadata": {},
     "output_type": "execute_result"
    },
    {
     "data": {
      "image/png": "[encoded data removed]",
      "text/plain": [
       "<Figure size 432x288 with 1 Axes>"
      ]
     },
     "metadata": {
      "needs_background": "light"
     },
     "output_type": "display_data"
    }
   ],
   "source": [
    "plt.plot(ns.strat_df['CumPnL'])"
   ]
  },
  {
   "cell_type": "code",
   "execution_count": 57,
   "metadata": {},
   "outputs": [
    {
     "data": {
      "text/plain": [
       "10.422427402765203"
      ]
     },
     "execution_count": 57,
     "metadata": {},
     "output_type": "execute_result"
    }
   ],
   "source": [
    "(ns.strat_df['Position'].diff().abs().sum() * 50)/(ns.strat_df['PnL'].sum()*200)"
   ]
  },
  {
   "cell_type": "code",
   "execution_count": 61,
   "metadata": {
    "scrolled": true
   },
   "outputs": [
    {
     "name": "stderr",
     "output_type": "stream",
     "text": [
      "/home/zekechyo/anaconda3/envs/stockExchange/lib/python3.6/site-packages/ipykernel_launcher.py:8: SettingWithCopyWarning: \n",
      "A value is trying to be set on a copy of a slice from a DataFrame\n",
      "\n",
      "See the caveats in the documentation: https://pandas.pydata.org/pandas-docs/stable/user_guide/indexing.html#returning-a-view-versus-a-copy\n",
      "  \n",
      "/home/zekechyo/anaconda3/envs/stockExchange/lib/python3.6/site-packages/ipykernel_launcher.py:9: SettingWithCopyWarning: \n",
      "A value is trying to be set on a copy of a slice from a DataFrame\n",
      "\n",
      "See the caveats in the documentation: https://pandas.pydata.org/pandas-docs/stable/user_guide/indexing.html#returning-a-view-versus-a-copy\n",
      "  if __name__ == '__main__':\n"
     ]
    },
    {
     "name": "stdout",
     "output_type": "stream",
     "text": [
      "\n",
      "_______________________________________________________________________________________________________\n",
      "\n",
      "\n",
      "Accuracy:\t44.32% \n",
      "Total:\t\t803334\n",
      "Avg Win:\t0.03%\tMax Win:\t6.06%\n",
      "Avg Loss:\t0.03%\tMax Loss:\t6.98%\n",
      "Max Drawdown: 0.7748\n",
      "Sharpe: -0.0413\n",
      "Sortino: -0.06\n",
      "CumSum: -354.275\n",
      "\n",
      "_______________________________________________________________________________________________________\n",
      "\n",
      "\n",
      "Accuracy:\t52.54% \n",
      "Total:\t\t803334\n",
      "Avg Win:\t0.03%\tMax Win:\t6.06%\n",
      "Avg Loss:\t0.02%\tMax Loss:\t6.98%\n",
      "Max Drawdown: 0.0727\n",
      "Sharpe: 2.0207\n",
      "Sortino: 3.1687\n",
      "CumSum: 20016.424999999977\n",
      "\n",
      "_______________________________________________________________________________________________________\n",
      "\n",
      "\n",
      "Accuracy:\t44.76% \n",
      "Total:\t\t803334\n",
      "Avg Win:\t0.03%\tMax Win:\t6.06%\n",
      "Avg Loss:\t0.03%\tMax Loss:\t6.98%\n",
      "Max Drawdown: 0.8811\n",
      "Sharpe: -0.0621\n",
      "Sortino: -0.0861\n",
      "CumSum: -599.6750000000236\n",
      "\n",
      "_______________________________________________________________________________________________________\n",
      "\n",
      "\n",
      "Accuracy:\t45.7% \n",
      "Total:\t\t803334\n",
      "Avg Win:\t0.03%\tMax Win:\t6.06%\n",
      "Avg Loss:\t0.03%\tMax Loss:\t6.98%\n",
      "Max Drawdown: 0.2231\n",
      "Sharpe: 0.0785\n",
      "Sortino: 0.1099\n",
      "CumSum: 811.225000000009\n",
      "\n",
      "_______________________________________________________________________________________________________\n",
      "\n",
      "\n",
      "Accuracy:\t51.26% \n",
      "Total:\t\t803334\n",
      "Avg Win:\t0.03%\tMax Win:\t6.06%\n",
      "Avg Loss:\t0.02%\tMax Loss:\t6.98%\n",
      "Max Drawdown: 0.11\n",
      "Sharpe: 1.7687\n",
      "Sortino: 2.7271\n",
      "CumSum: 17564.175000000017\n"
     ]
    }
   ],
   "source": [
    "al = [all_df_base, all_df_05, all_df_10, all_df_15, all_df_20]\n",
    "for d in range(len(al)):\n",
    "    ns = newStr(al[d])\n",
    "    ns.generate_signals(l50[d])\n",
    "    ns.run_backtest()\n",
    "    ns.stats()\n",
    "    print('CumSum: {}'.format(ns.strat_df['PnL'].sum()))"
   ]
  },
  {
   "cell_type": "code",
   "execution_count": 69,
   "metadata": {
    "scrolled": true
   },
   "outputs": [
    {
     "name": "stderr",
     "output_type": "stream",
     "text": [
      "/home/zekechyo/anaconda3/envs/stockExchange/lib/python3.6/site-packages/ipykernel_launcher.py:8: SettingWithCopyWarning: \n",
      "A value is trying to be set on a copy of a slice from a DataFrame\n",
      "\n",
      "See the caveats in the documentation: https://pandas.pydata.org/pandas-docs/stable/user_guide/indexing.html#returning-a-view-versus-a-copy\n",
      "  \n",
      "/home/zekechyo/anaconda3/envs/stockExchange/lib/python3.6/site-packages/ipykernel_launcher.py:9: SettingWithCopyWarning: \n",
      "A value is trying to be set on a copy of a slice from a DataFrame\n",
      "\n",
      "See the caveats in the documentation: https://pandas.pydata.org/pandas-docs/stable/user_guide/indexing.html#returning-a-view-versus-a-copy\n",
      "  if __name__ == '__main__':\n"
     ]
    },
    {
     "name": "stdout",
     "output_type": "stream",
     "text": [
      "\n",
      "_______________________________________________________________________________________________________\n",
      "\n",
      "\n",
      "Accuracy:\t52.54% \n",
      "Total:\t\t803334\n",
      "Avg Win:\t0.03%\tMax Win:\t6.06%\n",
      "Avg Loss:\t0.02%\tMax Loss:\t6.98%\n",
      "Max Drawdown: 0.0727\n",
      "Sharpe: 2.0207\n",
      "Sortino: 3.1687\n",
      "CumSum: 20016.424999999977\n"
     ]
    }
   ],
   "source": [
    "all_05 = stats_result(all_df_05, L05_50)"
   ]
  },
  {
   "cell_type": "code",
   "execution_count": 70,
   "metadata": {},
   "outputs": [
    {
     "name": "stderr",
     "output_type": "stream",
     "text": [
      "/home/zekechyo/anaconda3/envs/stockExchange/lib/python3.6/site-packages/ipykernel_launcher.py:8: SettingWithCopyWarning: \n",
      "A value is trying to be set on a copy of a slice from a DataFrame\n",
      "\n",
      "See the caveats in the documentation: https://pandas.pydata.org/pandas-docs/stable/user_guide/indexing.html#returning-a-view-versus-a-copy\n",
      "  \n",
      "/home/zekechyo/anaconda3/envs/stockExchange/lib/python3.6/site-packages/ipykernel_launcher.py:9: SettingWithCopyWarning: \n",
      "A value is trying to be set on a copy of a slice from a DataFrame\n",
      "\n",
      "See the caveats in the documentation: https://pandas.pydata.org/pandas-docs/stable/user_guide/indexing.html#returning-a-view-versus-a-copy\n",
      "  if __name__ == '__main__':\n"
     ]
    },
    {
     "name": "stdout",
     "output_type": "stream",
     "text": [
      "\n",
      "_______________________________________________________________________________________________________\n",
      "\n",
      "\n",
      "Accuracy:\t51.26% \n",
      "Total:\t\t803334\n",
      "Avg Win:\t0.03%\tMax Win:\t6.06%\n",
      "Avg Loss:\t0.02%\tMax Loss:\t6.98%\n",
      "Max Drawdown: 0.11\n",
      "Sharpe: 1.7687\n",
      "Sortino: 2.7271\n",
      "CumSum: 17564.175000000017\n"
     ]
    }
   ],
   "source": [
    "all_20 = stats_result(all_df_20, L20_50)"
   ]
  },
  {
   "cell_type": "code",
   "execution_count": 71,
   "metadata": {},
   "outputs": [
    {
     "data": {
      "text/plain": [
       "[<matplotlib.lines.Line2D at 0x7bdc23852fd0>]"
      ]
     },
     "execution_count": 71,
     "metadata": {},
     "output_type": "execute_result"
    },
    {
     "data": {
      "image/png": "[encoded data removed]",
      "text/plain": [
       "<Figure size 432x288 with 1 Axes>"
      ]
     },
     "metadata": {
      "needs_background": "light"
     },
     "output_type": "display_data"
    }
   ],
   "source": [
    "plt.plot(all_05['CumPnL'])"
   ]
  },
  {
   "cell_type": "code",
   "execution_count": 72,
   "metadata": {
    "scrolled": true
   },
   "outputs": [
    {
     "data": {
      "text/plain": [
       "[<matplotlib.lines.Line2D at 0x7bdc23838be0>]"
      ]
     },
     "execution_count": 72,
     "metadata": {},
     "output_type": "execute_result"
    },
    {
     "data": {
      "image/png": "[encoded data removed]",
      "text/plain": [
       "<Figure size 432x288 with 1 Axes>"
      ]
     },
     "metadata": {
      "needs_background": "light"
     },
     "output_type": "display_data"
    }
   ],
   "source": [
    "plt.plot(all_20['CumPnL'])"
   ]
  },
  {
   "cell_type": "code",
   "execution_count": 75,
   "metadata": {},
   "outputs": [
    {
     "data": {
      "text/plain": [
       "30.1160671798286"
      ]
     },
     "execution_count": 75,
     "metadata": {},
     "output_type": "execute_result"
    }
   ],
   "source": [
    "(all_05['Position'].diff().abs().sum() * 50)/(all_05['PnL'].sum()*50)"
   ]
  },
  {
   "cell_type": "code",
   "execution_count": 76,
   "metadata": {
    "scrolled": true
   },
   "outputs": [
    {
     "data": {
      "text/plain": [
       "26.365827031443235"
      ]
     },
     "execution_count": 76,
     "metadata": {},
     "output_type": "execute_result"
    }
   ],
   "source": [
    "(all_20['Position'].diff().abs().sum() * 50)/(all_20['PnL'].sum()*50)"
   ]
  },
  {
   "cell_type": "code",
   "execution_count": 100,
   "metadata": {},
   "outputs": [],
   "source": [
    "all_20['Account']=np.zeros(all_20.shape[0])"
   ]
  },
  {
   "cell_type": "code",
   "execution_count": 101,
   "metadata": {},
   "outputs": [
    {
     "name": "stderr",
     "output_type": "stream",
     "text": [
      "/home/zekechyo/anaconda3/envs/stockExchange/lib/python3.6/site-packages/pandas/core/indexing.py:670: SettingWithCopyWarning: \n",
      "A value is trying to be set on a copy of a slice from a DataFrame\n",
      "\n",
      "See the caveats in the documentation: https://pandas.pydata.org/pandas-docs/stable/user_guide/indexing.html#returning-a-view-versus-a-copy\n",
      "  self._setitem_with_indexer(indexer, value)\n"
     ]
    }
   ],
   "source": [
    "all_20['Account'].iloc[0]=300000"
   ]
  },
  {
   "cell_type": "code",
   "execution_count": 102,
   "metadata": {
    "scrolled": true
   },
   "outputs": [],
   "source": [
    "all_20['Account'] = all_20.apply(lambda x: x['Account']+x['PnL']*200, axis=1)"
   ]
  },
  {
   "cell_type": "code",
   "execution_count": 104,
   "metadata": {},
   "outputs": [
    {
     "data": {
      "text/plain": [
       "[<matplotlib.lines.Line2D at 0x7bdbc0d2bfd0>]"
      ]
     },
     "execution_count": 104,
     "metadata": {},
     "output_type": "execute_result"
    },
    {
     "data": {
      "image/png": "[encoded data removed]",
      "text/plain": [
       "<Figure size 432x288 with 1 Axes>"
      ]
     },
     "metadata": {
      "needs_background": "light"
     },
     "output_type": "display_data"
    }
   ],
   "source": [
    "plt.plot(all_20['Account'].cumsum())"
   ]
  },
  {
   "cell_type": "code",
   "execution_count": null,
   "metadata": {},
   "outputs": [],
   "source": []
  },
  {
   "cell_type": "code",
   "execution_count": null,
   "metadata": {},
   "outputs": [],
   "source": []
  },
  {
   "cell_type": "code",
   "execution_count": 105,
   "metadata": {},
   "outputs": [
    {
     "name": "stderr",
     "output_type": "stream",
     "text": [
      "/home/zekechyo/anaconda3/envs/stockExchange/lib/python3.6/site-packages/pandas/core/indexing.py:670: SettingWithCopyWarning: \n",
      "A value is trying to be set on a copy of a slice from a DataFrame\n",
      "\n",
      "See the caveats in the documentation: https://pandas.pydata.org/pandas-docs/stable/user_guide/indexing.html#returning-a-view-versus-a-copy\n",
      "  self._setitem_with_indexer(indexer, value)\n"
     ]
    }
   ],
   "source": [
    "all_05['Account']=np.zeros(all_05.shape[0])\n",
    "all_05['Account'].iloc[0]=300000"
   ]
  },
  {
   "cell_type": "code",
   "execution_count": 106,
   "metadata": {},
   "outputs": [],
   "source": [
    "all_05['Account'] = all_05.apply(lambda x: x['Account']+x['PnL']*200, axis=1)"
   ]
  },
  {
   "cell_type": "code",
   "execution_count": 107,
   "metadata": {},
   "outputs": [
    {
     "data": {
      "text/plain": [
       "[<matplotlib.lines.Line2D at 0x7bdbb0ed3400>]"
      ]
     },
     "execution_count": 107,
     "metadata": {},
     "output_type": "execute_result"
    },
    {
     "data": {
      "image/png": "[encoded data removed]",
      "text/plain": [
       "<Figure size 432x288 with 1 Axes>"
      ]
     },
     "metadata": {
      "needs_background": "light"
     },
     "output_type": "display_data"
    }
   ],
   "source": [
    "plt.plot(all_05['Account'].cumsum())"
   ]
  },
  {
   "cell_type": "code",
   "execution_count": null,
   "metadata": {},
   "outputs": [],
   "source": []
  }
 ],
 "metadata": {
  "kernelspec": {
   "display_name": "Python 3",
   "language": "python",
   "name": "python3"
  },
  "language_info": {
   "codemirror_mode": {
    "name": "ipython",
    "version": 3
   },
   "file_extension": ".py",
   "mimetype": "text/x-python",
   "name": "python",
   "nbconvert_exporter": "python",
   "pygments_lexer": "ipython3",
   "version": "3.6.10"
  }
 },
 "nbformat": 4,
 "nbformat_minor": 4
}
